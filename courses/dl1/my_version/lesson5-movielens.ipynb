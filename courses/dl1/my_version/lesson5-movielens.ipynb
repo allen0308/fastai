{
 "cells": [
  {
   "cell_type": "markdown",
   "metadata": {
    "heading_collapsed": true
   },
   "source": [
    "## Movielens"
   ]
  },
  {
   "cell_type": "code",
   "execution_count": 3,
   "metadata": {
    "hidden": true
   },
   "outputs": [],
   "source": [
    "%reload_ext autoreload\n",
    "%autoreload 2\n",
    "%matplotlib inline\n",
    "\n",
    "from fastai.learner import *\n",
    "from fastai.column_data import *"
   ]
  },
  {
   "cell_type": "code",
   "execution_count": 2,
   "metadata": {},
   "outputs": [],
   "source": [
    "torch.cuda.set_device(2)"
   ]
  },
  {
   "cell_type": "markdown",
   "metadata": {
    "hidden": true
   },
   "source": [
    "Data available from http://files.grouplens.org/datasets/movielens/ml-latest-small.zip"
   ]
  },
  {
   "cell_type": "code",
   "execution_count": 4,
   "metadata": {
    "hidden": true
   },
   "outputs": [],
   "source": [
    "path='data/ml-latest-small/'"
   ]
  },
  {
   "cell_type": "markdown",
   "metadata": {
    "hidden": true
   },
   "source": [
    "We're working with the movielens data, which contains one rating per row, like this:"
   ]
  },
  {
   "cell_type": "code",
   "execution_count": 5,
   "metadata": {
    "hidden": true
   },
   "outputs": [
    {
     "data": {
      "text/html": [
       "<div>\n",
       "<style scoped>\n",
       "    .dataframe tbody tr th:only-of-type {\n",
       "        vertical-align: middle;\n",
       "    }\n",
       "\n",
       "    .dataframe tbody tr th {\n",
       "        vertical-align: top;\n",
       "    }\n",
       "\n",
       "    .dataframe thead th {\n",
       "        text-align: right;\n",
       "    }\n",
       "</style>\n",
       "<table border=\"1\" class=\"dataframe\">\n",
       "  <thead>\n",
       "    <tr style=\"text-align: right;\">\n",
       "      <th></th>\n",
       "      <th>userId</th>\n",
       "      <th>movieId</th>\n",
       "      <th>rating</th>\n",
       "      <th>timestamp</th>\n",
       "    </tr>\n",
       "  </thead>\n",
       "  <tbody>\n",
       "    <tr>\n",
       "      <th>0</th>\n",
       "      <td>1</td>\n",
       "      <td>31</td>\n",
       "      <td>2.5</td>\n",
       "      <td>1260759144</td>\n",
       "    </tr>\n",
       "    <tr>\n",
       "      <th>1</th>\n",
       "      <td>1</td>\n",
       "      <td>1029</td>\n",
       "      <td>3.0</td>\n",
       "      <td>1260759179</td>\n",
       "    </tr>\n",
       "    <tr>\n",
       "      <th>2</th>\n",
       "      <td>1</td>\n",
       "      <td>1061</td>\n",
       "      <td>3.0</td>\n",
       "      <td>1260759182</td>\n",
       "    </tr>\n",
       "    <tr>\n",
       "      <th>3</th>\n",
       "      <td>1</td>\n",
       "      <td>1129</td>\n",
       "      <td>2.0</td>\n",
       "      <td>1260759185</td>\n",
       "    </tr>\n",
       "    <tr>\n",
       "      <th>4</th>\n",
       "      <td>1</td>\n",
       "      <td>1172</td>\n",
       "      <td>4.0</td>\n",
       "      <td>1260759205</td>\n",
       "    </tr>\n",
       "  </tbody>\n",
       "</table>\n",
       "</div>"
      ],
      "text/plain": [
       "   userId  movieId  rating   timestamp\n",
       "0       1       31     2.5  1260759144\n",
       "1       1     1029     3.0  1260759179\n",
       "2       1     1061     3.0  1260759182\n",
       "3       1     1129     2.0  1260759185\n",
       "4       1     1172     4.0  1260759205"
      ]
     },
     "execution_count": 5,
     "metadata": {},
     "output_type": "execute_result"
    }
   ],
   "source": [
    "ratings = pd.read_csv(path+'ratings.csv')\n",
    "ratings.head()"
   ]
  },
  {
   "cell_type": "markdown",
   "metadata": {
    "hidden": true
   },
   "source": [
    "Just for display purposes, let's read in the movie names too."
   ]
  },
  {
   "cell_type": "code",
   "execution_count": 6,
   "metadata": {
    "hidden": true
   },
   "outputs": [
    {
     "data": {
      "text/html": [
       "<div>\n",
       "<style scoped>\n",
       "    .dataframe tbody tr th:only-of-type {\n",
       "        vertical-align: middle;\n",
       "    }\n",
       "\n",
       "    .dataframe tbody tr th {\n",
       "        vertical-align: top;\n",
       "    }\n",
       "\n",
       "    .dataframe thead th {\n",
       "        text-align: right;\n",
       "    }\n",
       "</style>\n",
       "<table border=\"1\" class=\"dataframe\">\n",
       "  <thead>\n",
       "    <tr style=\"text-align: right;\">\n",
       "      <th></th>\n",
       "      <th>movieId</th>\n",
       "      <th>title</th>\n",
       "      <th>genres</th>\n",
       "    </tr>\n",
       "  </thead>\n",
       "  <tbody>\n",
       "    <tr>\n",
       "      <th>0</th>\n",
       "      <td>1</td>\n",
       "      <td>Toy Story (1995)</td>\n",
       "      <td>Adventure|Animation|Children|Comedy|Fantasy</td>\n",
       "    </tr>\n",
       "    <tr>\n",
       "      <th>1</th>\n",
       "      <td>2</td>\n",
       "      <td>Jumanji (1995)</td>\n",
       "      <td>Adventure|Children|Fantasy</td>\n",
       "    </tr>\n",
       "    <tr>\n",
       "      <th>2</th>\n",
       "      <td>3</td>\n",
       "      <td>Grumpier Old Men (1995)</td>\n",
       "      <td>Comedy|Romance</td>\n",
       "    </tr>\n",
       "    <tr>\n",
       "      <th>3</th>\n",
       "      <td>4</td>\n",
       "      <td>Waiting to Exhale (1995)</td>\n",
       "      <td>Comedy|Drama|Romance</td>\n",
       "    </tr>\n",
       "    <tr>\n",
       "      <th>4</th>\n",
       "      <td>5</td>\n",
       "      <td>Father of the Bride Part II (1995)</td>\n",
       "      <td>Comedy</td>\n",
       "    </tr>\n",
       "  </tbody>\n",
       "</table>\n",
       "</div>"
      ],
      "text/plain": [
       "   movieId                               title  \\\n",
       "0        1                    Toy Story (1995)   \n",
       "1        2                      Jumanji (1995)   \n",
       "2        3             Grumpier Old Men (1995)   \n",
       "3        4            Waiting to Exhale (1995)   \n",
       "4        5  Father of the Bride Part II (1995)   \n",
       "\n",
       "                                        genres  \n",
       "0  Adventure|Animation|Children|Comedy|Fantasy  \n",
       "1                   Adventure|Children|Fantasy  \n",
       "2                               Comedy|Romance  \n",
       "3                         Comedy|Drama|Romance  \n",
       "4                                       Comedy  "
      ]
     },
     "execution_count": 6,
     "metadata": {},
     "output_type": "execute_result"
    }
   ],
   "source": [
    "movies = pd.read_csv(path+'movies.csv')\n",
    "movies.head()"
   ]
  },
  {
   "cell_type": "markdown",
   "metadata": {
    "heading_collapsed": true
   },
   "source": [
    "## Create subset for Excel"
   ]
  },
  {
   "cell_type": "markdown",
   "metadata": {
    "hidden": true
   },
   "source": [
    "We create a crosstab of the most popular movies and most movie-addicted users which we'll copy into Excel for creating a simple example. This isn't necessary for any of the modeling below however."
   ]
  },
  {
   "cell_type": "code",
   "execution_count": 7,
   "metadata": {},
   "outputs": [
    {
     "data": {
      "text/plain": [
       "pandas.core.frame.DataFrame"
      ]
     },
     "execution_count": 7,
     "metadata": {},
     "output_type": "execute_result"
    }
   ],
   "source": [
    "type(ratings)"
   ]
  },
  {
   "cell_type": "code",
   "execution_count": 8,
   "metadata": {
    "hidden": true
   },
   "outputs": [
    {
     "data": {
      "text/html": [
       "<div>\n",
       "<style scoped>\n",
       "    .dataframe tbody tr th:only-of-type {\n",
       "        vertical-align: middle;\n",
       "    }\n",
       "\n",
       "    .dataframe tbody tr th {\n",
       "        vertical-align: top;\n",
       "    }\n",
       "\n",
       "    .dataframe thead th {\n",
       "        text-align: right;\n",
       "    }\n",
       "</style>\n",
       "<table border=\"1\" class=\"dataframe\">\n",
       "  <thead>\n",
       "    <tr style=\"text-align: right;\">\n",
       "      <th>movieId</th>\n",
       "      <th>1</th>\n",
       "      <th>110</th>\n",
       "      <th>260</th>\n",
       "      <th>296</th>\n",
       "      <th>318</th>\n",
       "      <th>356</th>\n",
       "      <th>480</th>\n",
       "      <th>527</th>\n",
       "      <th>589</th>\n",
       "      <th>593</th>\n",
       "      <th>608</th>\n",
       "      <th>1196</th>\n",
       "      <th>1198</th>\n",
       "      <th>1270</th>\n",
       "      <th>2571</th>\n",
       "    </tr>\n",
       "    <tr>\n",
       "      <th>userId</th>\n",
       "      <th></th>\n",
       "      <th></th>\n",
       "      <th></th>\n",
       "      <th></th>\n",
       "      <th></th>\n",
       "      <th></th>\n",
       "      <th></th>\n",
       "      <th></th>\n",
       "      <th></th>\n",
       "      <th></th>\n",
       "      <th></th>\n",
       "      <th></th>\n",
       "      <th></th>\n",
       "      <th></th>\n",
       "      <th></th>\n",
       "    </tr>\n",
       "  </thead>\n",
       "  <tbody>\n",
       "    <tr>\n",
       "      <th>15</th>\n",
       "      <td>2.0</td>\n",
       "      <td>3.0</td>\n",
       "      <td>5.0</td>\n",
       "      <td>5.0</td>\n",
       "      <td>2.0</td>\n",
       "      <td>1.0</td>\n",
       "      <td>3.0</td>\n",
       "      <td>4.0</td>\n",
       "      <td>4.0</td>\n",
       "      <td>5.0</td>\n",
       "      <td>5.0</td>\n",
       "      <td>5.0</td>\n",
       "      <td>4.0</td>\n",
       "      <td>5.0</td>\n",
       "      <td>5.0</td>\n",
       "    </tr>\n",
       "    <tr>\n",
       "      <th>30</th>\n",
       "      <td>4.0</td>\n",
       "      <td>5.0</td>\n",
       "      <td>4.0</td>\n",
       "      <td>5.0</td>\n",
       "      <td>5.0</td>\n",
       "      <td>5.0</td>\n",
       "      <td>4.0</td>\n",
       "      <td>5.0</td>\n",
       "      <td>4.0</td>\n",
       "      <td>4.0</td>\n",
       "      <td>5.0</td>\n",
       "      <td>4.0</td>\n",
       "      <td>5.0</td>\n",
       "      <td>5.0</td>\n",
       "      <td>3.0</td>\n",
       "    </tr>\n",
       "    <tr>\n",
       "      <th>73</th>\n",
       "      <td>5.0</td>\n",
       "      <td>4.0</td>\n",
       "      <td>4.5</td>\n",
       "      <td>5.0</td>\n",
       "      <td>5.0</td>\n",
       "      <td>5.0</td>\n",
       "      <td>4.0</td>\n",
       "      <td>5.0</td>\n",
       "      <td>3.0</td>\n",
       "      <td>4.5</td>\n",
       "      <td>4.0</td>\n",
       "      <td>5.0</td>\n",
       "      <td>5.0</td>\n",
       "      <td>5.0</td>\n",
       "      <td>4.5</td>\n",
       "    </tr>\n",
       "    <tr>\n",
       "      <th>212</th>\n",
       "      <td>3.0</td>\n",
       "      <td>5.0</td>\n",
       "      <td>4.0</td>\n",
       "      <td>4.0</td>\n",
       "      <td>4.5</td>\n",
       "      <td>4.0</td>\n",
       "      <td>3.0</td>\n",
       "      <td>5.0</td>\n",
       "      <td>3.0</td>\n",
       "      <td>4.0</td>\n",
       "      <td>NaN</td>\n",
       "      <td>NaN</td>\n",
       "      <td>3.0</td>\n",
       "      <td>3.0</td>\n",
       "      <td>5.0</td>\n",
       "    </tr>\n",
       "    <tr>\n",
       "      <th>213</th>\n",
       "      <td>3.0</td>\n",
       "      <td>2.5</td>\n",
       "      <td>5.0</td>\n",
       "      <td>NaN</td>\n",
       "      <td>NaN</td>\n",
       "      <td>2.0</td>\n",
       "      <td>5.0</td>\n",
       "      <td>NaN</td>\n",
       "      <td>4.0</td>\n",
       "      <td>2.5</td>\n",
       "      <td>2.0</td>\n",
       "      <td>5.0</td>\n",
       "      <td>3.0</td>\n",
       "      <td>3.0</td>\n",
       "      <td>4.0</td>\n",
       "    </tr>\n",
       "    <tr>\n",
       "      <th>294</th>\n",
       "      <td>4.0</td>\n",
       "      <td>3.0</td>\n",
       "      <td>4.0</td>\n",
       "      <td>NaN</td>\n",
       "      <td>3.0</td>\n",
       "      <td>4.0</td>\n",
       "      <td>4.0</td>\n",
       "      <td>4.0</td>\n",
       "      <td>3.0</td>\n",
       "      <td>NaN</td>\n",
       "      <td>NaN</td>\n",
       "      <td>4.0</td>\n",
       "      <td>4.5</td>\n",
       "      <td>4.0</td>\n",
       "      <td>4.5</td>\n",
       "    </tr>\n",
       "    <tr>\n",
       "      <th>311</th>\n",
       "      <td>3.0</td>\n",
       "      <td>3.0</td>\n",
       "      <td>4.0</td>\n",
       "      <td>3.0</td>\n",
       "      <td>4.5</td>\n",
       "      <td>5.0</td>\n",
       "      <td>4.5</td>\n",
       "      <td>5.0</td>\n",
       "      <td>4.5</td>\n",
       "      <td>2.0</td>\n",
       "      <td>4.0</td>\n",
       "      <td>3.0</td>\n",
       "      <td>4.5</td>\n",
       "      <td>4.5</td>\n",
       "      <td>4.0</td>\n",
       "    </tr>\n",
       "    <tr>\n",
       "      <th>380</th>\n",
       "      <td>4.0</td>\n",
       "      <td>5.0</td>\n",
       "      <td>4.0</td>\n",
       "      <td>5.0</td>\n",
       "      <td>4.0</td>\n",
       "      <td>5.0</td>\n",
       "      <td>4.0</td>\n",
       "      <td>NaN</td>\n",
       "      <td>4.0</td>\n",
       "      <td>5.0</td>\n",
       "      <td>4.0</td>\n",
       "      <td>4.0</td>\n",
       "      <td>NaN</td>\n",
       "      <td>3.0</td>\n",
       "      <td>5.0</td>\n",
       "    </tr>\n",
       "    <tr>\n",
       "      <th>452</th>\n",
       "      <td>3.5</td>\n",
       "      <td>4.0</td>\n",
       "      <td>4.0</td>\n",
       "      <td>5.0</td>\n",
       "      <td>5.0</td>\n",
       "      <td>4.0</td>\n",
       "      <td>5.0</td>\n",
       "      <td>4.0</td>\n",
       "      <td>4.0</td>\n",
       "      <td>5.0</td>\n",
       "      <td>5.0</td>\n",
       "      <td>4.0</td>\n",
       "      <td>4.0</td>\n",
       "      <td>4.0</td>\n",
       "      <td>2.0</td>\n",
       "    </tr>\n",
       "    <tr>\n",
       "      <th>468</th>\n",
       "      <td>4.0</td>\n",
       "      <td>3.0</td>\n",
       "      <td>3.5</td>\n",
       "      <td>3.5</td>\n",
       "      <td>3.5</td>\n",
       "      <td>3.0</td>\n",
       "      <td>2.5</td>\n",
       "      <td>NaN</td>\n",
       "      <td>NaN</td>\n",
       "      <td>3.0</td>\n",
       "      <td>4.0</td>\n",
       "      <td>3.0</td>\n",
       "      <td>3.5</td>\n",
       "      <td>3.0</td>\n",
       "      <td>3.0</td>\n",
       "    </tr>\n",
       "    <tr>\n",
       "      <th>509</th>\n",
       "      <td>3.0</td>\n",
       "      <td>5.0</td>\n",
       "      <td>5.0</td>\n",
       "      <td>5.0</td>\n",
       "      <td>4.0</td>\n",
       "      <td>4.0</td>\n",
       "      <td>3.0</td>\n",
       "      <td>5.0</td>\n",
       "      <td>2.0</td>\n",
       "      <td>4.0</td>\n",
       "      <td>4.5</td>\n",
       "      <td>5.0</td>\n",
       "      <td>5.0</td>\n",
       "      <td>3.0</td>\n",
       "      <td>4.5</td>\n",
       "    </tr>\n",
       "    <tr>\n",
       "      <th>547</th>\n",
       "      <td>3.5</td>\n",
       "      <td>NaN</td>\n",
       "      <td>NaN</td>\n",
       "      <td>5.0</td>\n",
       "      <td>5.0</td>\n",
       "      <td>2.0</td>\n",
       "      <td>3.0</td>\n",
       "      <td>5.0</td>\n",
       "      <td>NaN</td>\n",
       "      <td>5.0</td>\n",
       "      <td>5.0</td>\n",
       "      <td>2.5</td>\n",
       "      <td>2.0</td>\n",
       "      <td>3.5</td>\n",
       "      <td>3.5</td>\n",
       "    </tr>\n",
       "    <tr>\n",
       "      <th>564</th>\n",
       "      <td>4.0</td>\n",
       "      <td>1.0</td>\n",
       "      <td>2.0</td>\n",
       "      <td>5.0</td>\n",
       "      <td>NaN</td>\n",
       "      <td>3.0</td>\n",
       "      <td>5.0</td>\n",
       "      <td>4.0</td>\n",
       "      <td>5.0</td>\n",
       "      <td>5.0</td>\n",
       "      <td>5.0</td>\n",
       "      <td>5.0</td>\n",
       "      <td>5.0</td>\n",
       "      <td>3.0</td>\n",
       "      <td>3.0</td>\n",
       "    </tr>\n",
       "    <tr>\n",
       "      <th>580</th>\n",
       "      <td>4.0</td>\n",
       "      <td>4.5</td>\n",
       "      <td>4.0</td>\n",
       "      <td>4.5</td>\n",
       "      <td>4.0</td>\n",
       "      <td>3.5</td>\n",
       "      <td>3.0</td>\n",
       "      <td>4.0</td>\n",
       "      <td>4.5</td>\n",
       "      <td>4.0</td>\n",
       "      <td>4.5</td>\n",
       "      <td>4.0</td>\n",
       "      <td>3.5</td>\n",
       "      <td>3.0</td>\n",
       "      <td>4.5</td>\n",
       "    </tr>\n",
       "    <tr>\n",
       "      <th>624</th>\n",
       "      <td>5.0</td>\n",
       "      <td>NaN</td>\n",
       "      <td>5.0</td>\n",
       "      <td>5.0</td>\n",
       "      <td>NaN</td>\n",
       "      <td>3.0</td>\n",
       "      <td>3.0</td>\n",
       "      <td>NaN</td>\n",
       "      <td>3.0</td>\n",
       "      <td>5.0</td>\n",
       "      <td>4.0</td>\n",
       "      <td>5.0</td>\n",
       "      <td>5.0</td>\n",
       "      <td>5.0</td>\n",
       "      <td>2.0</td>\n",
       "    </tr>\n",
       "  </tbody>\n",
       "</table>\n",
       "</div>"
      ],
      "text/plain": [
       "movieId  1     110   260   296   318   356   480   527   589   593   608   \\\n",
       "userId                                                                      \n",
       "15        2.0   3.0   5.0   5.0   2.0   1.0   3.0   4.0   4.0   5.0   5.0   \n",
       "30        4.0   5.0   4.0   5.0   5.0   5.0   4.0   5.0   4.0   4.0   5.0   \n",
       "73        5.0   4.0   4.5   5.0   5.0   5.0   4.0   5.0   3.0   4.5   4.0   \n",
       "212       3.0   5.0   4.0   4.0   4.5   4.0   3.0   5.0   3.0   4.0   NaN   \n",
       "213       3.0   2.5   5.0   NaN   NaN   2.0   5.0   NaN   4.0   2.5   2.0   \n",
       "294       4.0   3.0   4.0   NaN   3.0   4.0   4.0   4.0   3.0   NaN   NaN   \n",
       "311       3.0   3.0   4.0   3.0   4.5   5.0   4.5   5.0   4.5   2.0   4.0   \n",
       "380       4.0   5.0   4.0   5.0   4.0   5.0   4.0   NaN   4.0   5.0   4.0   \n",
       "452       3.5   4.0   4.0   5.0   5.0   4.0   5.0   4.0   4.0   5.0   5.0   \n",
       "468       4.0   3.0   3.5   3.5   3.5   3.0   2.5   NaN   NaN   3.0   4.0   \n",
       "509       3.0   5.0   5.0   5.0   4.0   4.0   3.0   5.0   2.0   4.0   4.5   \n",
       "547       3.5   NaN   NaN   5.0   5.0   2.0   3.0   5.0   NaN   5.0   5.0   \n",
       "564       4.0   1.0   2.0   5.0   NaN   3.0   5.0   4.0   5.0   5.0   5.0   \n",
       "580       4.0   4.5   4.0   4.5   4.0   3.5   3.0   4.0   4.5   4.0   4.5   \n",
       "624       5.0   NaN   5.0   5.0   NaN   3.0   3.0   NaN   3.0   5.0   4.0   \n",
       "\n",
       "movieId  1196  1198  1270  2571  \n",
       "userId                           \n",
       "15        5.0   4.0   5.0   5.0  \n",
       "30        4.0   5.0   5.0   3.0  \n",
       "73        5.0   5.0   5.0   4.5  \n",
       "212       NaN   3.0   3.0   5.0  \n",
       "213       5.0   3.0   3.0   4.0  \n",
       "294       4.0   4.5   4.0   4.5  \n",
       "311       3.0   4.5   4.5   4.0  \n",
       "380       4.0   NaN   3.0   5.0  \n",
       "452       4.0   4.0   4.0   2.0  \n",
       "468       3.0   3.5   3.0   3.0  \n",
       "509       5.0   5.0   3.0   4.5  \n",
       "547       2.5   2.0   3.5   3.5  \n",
       "564       5.0   5.0   3.0   3.0  \n",
       "580       4.0   3.5   3.0   4.5  \n",
       "624       5.0   5.0   5.0   2.0  "
      ]
     },
     "execution_count": 8,
     "metadata": {},
     "output_type": "execute_result"
    }
   ],
   "source": [
    "g=ratings.groupby('userId')['rating'].count()\n",
    "topUsers=g.sort_values(ascending=False)[:15]\n",
    "\n",
    "g=ratings.groupby('movieId')['rating'].count()\n",
    "topMovies=g.sort_values(ascending=False)[:15]\n",
    "\n",
    "top_r = ratings.join(topUsers, rsuffix='_r', how='inner', on='userId')\n",
    "top_r = top_r.join(topMovies, rsuffix='_r', how='inner', on='movieId')\n",
    "\n",
    "pd.crosstab(top_r.userId, top_r.movieId, top_r.rating, aggfunc=np.sum)"
   ]
  },
  {
   "cell_type": "markdown",
   "metadata": {
    "heading_collapsed": true
   },
   "source": [
    "## Collaborative filtering"
   ]
  },
  {
   "cell_type": "code",
   "execution_count": 9,
   "metadata": {
    "hidden": true
   },
   "outputs": [],
   "source": [
    "val_idxs = get_cv_idxs(len(ratings))\n",
    "# weight decay, it's L2 regularization basically\n",
    "wd=2e-4\n",
    "# how big the embedding matrix we want for user and movie\n",
    "n_factors = 50"
   ]
  },
  {
   "cell_type": "code",
   "execution_count": 11,
   "metadata": {},
   "outputs": [],
   "source": [
    "??CollabFilterDataset.from_csv"
   ]
  },
  {
   "cell_type": "code",
   "execution_count": 12,
   "metadata": {
    "hidden": true
   },
   "outputs": [],
   "source": [
    "# userId->row, movieId->column, rating->value\n",
    "cf = CollabFilterDataset.from_csv(path, 'ratings.csv', 'userId', 'movieId', 'rating')\n",
    "# 64->batch size\n",
    "learn = cf.get_learner(n_factors, val_idxs, 64, opt_fn=optim.Adam)"
   ]
  },
  {
   "cell_type": "code",
   "execution_count": 14,
   "metadata": {},
   "outputs": [
    {
     "data": {
      "text/plain": [
       "<fastai.column_data.CollabFilterDataset at 0x26022febc88>"
      ]
     },
     "execution_count": 14,
     "metadata": {},
     "output_type": "execute_result"
    }
   ],
   "source": [
    "cf"
   ]
  },
  {
   "cell_type": "code",
   "execution_count": 15,
   "metadata": {},
   "outputs": [
    {
     "data": {
      "text/plain": [
       "EmbeddingDotBias(\n",
       "  (u): Embedding(671, 50)\n",
       "  (i): Embedding(9066, 50)\n",
       "  (ub): Embedding(671, 1)\n",
       "  (ib): Embedding(9066, 1)\n",
       ")"
      ]
     },
     "execution_count": 15,
     "metadata": {},
     "output_type": "execute_result"
    }
   ],
   "source": [
    "learn"
   ]
  },
  {
   "cell_type": "code",
   "execution_count": 17,
   "metadata": {},
   "outputs": [
    {
     "data": {
      "text/plain": [
       "fastai.column_data.CollabFilterLearner"
      ]
     },
     "execution_count": 17,
     "metadata": {},
     "output_type": "execute_result"
    }
   ],
   "source": [
    "type(learn)"
   ]
  },
  {
   "cell_type": "code",
   "execution_count": 18,
   "metadata": {
    "hidden": true,
    "scrolled": true
   },
   "outputs": [
    {
     "data": {
      "application/vnd.jupyter.widget-view+json": {
       "model_id": "841ba2353f7a49878acb3c601eab4504",
       "version_major": 2,
       "version_minor": 0
      },
      "text/plain": [
       "HBox(children=(IntProgress(value=0, description='Epoch', max=3), HTML(value='')))"
      ]
     },
     "metadata": {},
     "output_type": "display_data"
    },
    {
     "name": "stdout",
     "output_type": "stream",
     "text": [
      "epoch      trn_loss   val_loss                                                                                         \n",
      "    0      0.812714   0.809548  \n",
      "    1      0.757037   0.77905                                                                                          \n",
      "    2      0.614219   0.765143                                                                                         \n",
      "\n"
     ]
    },
    {
     "data": {
      "text/plain": [
       "[array([0.76514])]"
      ]
     },
     "execution_count": 18,
     "metadata": {},
     "output_type": "execute_result"
    }
   ],
   "source": [
    "# No pre-trained model here, start from randomly initializing.\n",
    "# This is the mean squared error, not a root mean squared error.\n",
    "learn.fit(1e-2, 2, wds=wd, cycle_len=1, cycle_mult=2)"
   ]
  },
  {
   "cell_type": "markdown",
   "metadata": {
    "hidden": true
   },
   "source": [
    "Let's compare to some benchmarks. Here's [some benchmarks](https://www.librec.net/release/v1.3/example.html) on the same dataset for the popular Librec system for collaborative filtering. They show best results based on [RMSE](http://www.statisticshowto.com/rmse/) of 0.91. We'll need to take the square root of our loss, since we use plain MSE."
   ]
  },
  {
   "cell_type": "code",
   "execution_count": 19,
   "metadata": {
    "hidden": true
   },
   "outputs": [
    {
     "data": {
      "text/plain": [
       "0.8752142594816426"
      ]
     },
     "execution_count": 19,
     "metadata": {},
     "output_type": "execute_result"
    }
   ],
   "source": [
    "math.sqrt(0.766)"
   ]
  },
  {
   "cell_type": "markdown",
   "metadata": {
    "hidden": true
   },
   "source": [
    "Looking good - we've found a solution better than any of those benchmarks! Let's take a look at how the predictions compare to actuals for this model."
   ]
  },
  {
   "cell_type": "code",
   "execution_count": 20,
   "metadata": {
    "hidden": true
   },
   "outputs": [],
   "source": [
    "preds = learn.predict()"
   ]
  },
  {
   "cell_type": "code",
   "execution_count": 21,
   "metadata": {
    "hidden": true
   },
   "outputs": [
    {
     "name": "stderr",
     "output_type": "stream",
     "text": [
      "C:\\Users\\hasun\\AppData\\Local\\Continuum\\anaconda3\\envs\\fastai\\lib\\site-packages\\matplotlib\\axes\\_axes.py:6462: UserWarning: The 'normed' kwarg is deprecated, and has been replaced by the 'density' kwarg.\n",
      "  warnings.warn(\"The 'normed' kwarg is deprecated, and has been \"\n",
      "C:\\Users\\hasun\\AppData\\Local\\Continuum\\anaconda3\\envs\\fastai\\lib\\site-packages\\matplotlib\\axes\\_axes.py:6462: UserWarning: The 'normed' kwarg is deprecated, and has been replaced by the 'density' kwarg.\n",
      "  warnings.warn(\"The 'normed' kwarg is deprecated, and has been \"\n"
     ]
    },
    {
     "data": {
      "image/png": "[encoded data removed]",
      "text/plain": [
       "<Figure size 432x432 with 3 Axes>"
      ]
     },
     "metadata": {},
     "output_type": "display_data"
    }
   ],
   "source": [
    "y=learn.data.val_y\n",
    "# seaborn is a really great plotting library, it sits on top of matplotlib\n",
    "sns.jointplot(preds, y, kind='hex', stat_func=None);"
   ]
  },
  {
   "cell_type": "markdown",
   "metadata": {},
   "source": [
    "## Analyze results"
   ]
  },
  {
   "cell_type": "markdown",
   "metadata": {
    "heading_collapsed": true
   },
   "source": [
    "### Movie bias"
   ]
  },
  {
   "cell_type": "code",
   "execution_count": 22,
   "metadata": {
    "hidden": true
   },
   "outputs": [],
   "source": [
    "movie_names = movies.set_index('movieId')['title'].to_dict()\n",
    "g=ratings.groupby('movieId')['rating'].count()\n",
    "topMovies=g.sort_values(ascending=False).index.values[:3000]\n",
    "topMovieIdx = np.array([cf.item2idx[o] for o in topMovies])"
   ]
  },
  {
   "cell_type": "code",
   "execution_count": 23,
   "metadata": {},
   "outputs": [
    {
     "data": {
      "text/plain": [
       "{1: 'Toy Story (1995)',\n",
       " 2: 'Jumanji (1995)',\n",
       " 3: 'Grumpier Old Men (1995)',\n",
       " 4: 'Waiting to Exhale (1995)',\n",
       " 5: 'Father of the Bride Part II (1995)',\n",
       " 6: 'Heat (1995)',\n",
       " 7: 'Sabrina (1995)',\n",
       " 8: 'Tom and Huck (1995)',\n",
       " 9: 'Sudden Death (1995)',\n",
       " 10: 'GoldenEye (1995)',\n",
       " 11: 'American President, The (1995)',\n",
       " 12: 'Dracula: Dead and Loving It (1995)',\n",
       " 13: 'Balto (1995)',\n",
       " 14: 'Nixon (1995)',\n",
       " 15: 'Cutthroat Island (1995)',\n",
       " 16: 'Casino (1995)',\n",
       " 17: 'Sense and Sensibility (1995)',\n",
       " 18: 'Four Rooms (1995)',\n",
       " 19: 'Ace Ventura: When Nature Calls (1995)',\n",
       " 20: 'Money Train (1995)',\n",
       " 21: 'Get Shorty (1995)',\n",
       " 22: 'Copycat (1995)',\n",
       " 23: 'Assassins (1995)',\n",
       " 24: 'Powder (1995)',\n",
       " 25: 'Leaving Las Vegas (1995)',\n",
       " 26: 'Othello (1995)',\n",
       " 27: 'Now and Then (1995)',\n",
       " 28: 'Persuasion (1995)',\n",
       " 29: 'City of Lost Children, The (Cité des enfants perdus, La) (1995)',\n",
       " 30: 'Shanghai Triad (Yao a yao yao dao waipo qiao) (1995)',\n",
       " 31: 'Dangerous Minds (1995)',\n",
       " 32: 'Twelve Monkeys (a.k.a. 12 Monkeys) (1995)',\n",
       " 34: 'Babe (1995)',\n",
       " 35: 'Carrington (1995)',\n",
       " 36: 'Dead Man Walking (1995)',\n",
       " 37: 'Across the Sea of Time (1995)',\n",
       " 38: 'It Takes Two (1995)',\n",
       " 39: 'Clueless (1995)',\n",
       " 40: 'Cry, the Beloved Country (1995)',\n",
       " 41: 'Richard III (1995)',\n",
       " 42: 'Dead Presidents (1995)',\n",
       " 43: 'Restoration (1995)',\n",
       " 44: 'Mortal Kombat (1995)',\n",
       " 45: 'To Die For (1995)',\n",
       " 46: 'How to Make an American Quilt (1995)',\n",
       " 47: 'Seven (a.k.a. Se7en) (1995)',\n",
       " 48: 'Pocahontas (1995)',\n",
       " 49: 'When Night Is Falling (1995)',\n",
       " 50: 'Usual Suspects, The (1995)',\n",
       " 52: 'Mighty Aphrodite (1995)',\n",
       " 53: 'Lamerica (1994)',\n",
       " 54: 'Big Green, The (1995)',\n",
       " 55: 'Georgia (1995)',\n",
       " 57: 'Home for the Holidays (1995)',\n",
       " 58: 'Postman, The (Postino, Il) (1994)',\n",
       " 59: 'Confessional, The (Confessionnal, Le) (1995)',\n",
       " 60: 'Indian in the Cupboard, The (1995)',\n",
       " 61: 'Eye for an Eye (1996)',\n",
       " 62: \"Mr. Holland's Opus (1995)\",\n",
       " 63: \"Don't Be a Menace to South Central While Drinking Your Juice in the Hood (1996)\",\n",
       " 64: 'Two if by Sea (1996)',\n",
       " 65: 'Bio-Dome (1996)',\n",
       " 66: 'Lawnmower Man 2: Beyond Cyberspace (1996)',\n",
       " 68: 'French Twist (Gazon maudit) (1995)',\n",
       " 69: 'Friday (1995)',\n",
       " 70: 'From Dusk Till Dawn (1996)',\n",
       " 71: 'Fair Game (1995)',\n",
       " 72: 'Kicking and Screaming (1995)',\n",
       " 73: 'Misérables, Les (1995)',\n",
       " 74: 'Bed of Roses (1996)',\n",
       " 76: 'Screamers (1995)',\n",
       " 77: 'Nico Icon (1995)',\n",
       " 78: 'Crossing Guard, The (1995)',\n",
       " 79: 'Juror, The (1996)',\n",
       " 80: 'White Balloon, The (Badkonake sefid) (1995)',\n",
       " 81: \"Things to Do in Denver When You're Dead (1995)\",\n",
       " 82: \"Antonia's Line (Antonia) (1995)\",\n",
       " 83: 'Once Upon a Time... When We Were Colored (1995)',\n",
       " 84: 'Last Summer in the Hamptons (1995)',\n",
       " 85: 'Angels and Insects (1995)',\n",
       " 86: 'White Squall (1996)',\n",
       " 87: 'Dunston Checks In (1996)',\n",
       " 88: 'Black Sheep (1996)',\n",
       " 89: 'Nick of Time (1995)',\n",
       " 92: 'Mary Reilly (1996)',\n",
       " 93: 'Vampire in Brooklyn (1995)',\n",
       " 94: 'Beautiful Girls (1996)',\n",
       " 95: 'Broken Arrow (1996)',\n",
       " 96: 'In the Bleak Midwinter (1995)',\n",
       " 97: 'Hate (Haine, La) (1995)',\n",
       " 98: 'Shopping (1994)',\n",
       " 99: 'Heidi Fleiss: Hollywood Madam (1995)',\n",
       " 100: 'City Hall (1996)',\n",
       " 101: 'Bottle Rocket (1996)',\n",
       " 102: 'Mr. Wrong (1996)',\n",
       " 103: 'Unforgettable (1996)',\n",
       " 104: 'Happy Gilmore (1996)',\n",
       " 105: 'Bridges of Madison County, The (1995)',\n",
       " 107: 'Muppet Treasure Island (1996)',\n",
       " 108: 'Catwalk (1996)',\n",
       " 110: 'Braveheart (1995)',\n",
       " 111: 'Taxi Driver (1976)',\n",
       " 112: 'Rumble in the Bronx (Hont faan kui) (1995)',\n",
       " 113: 'Before and After (1996)',\n",
       " 114: \"Margaret's Museum (1995)\",\n",
       " 116: 'Anne Frank Remembered (1995)',\n",
       " 117: \"Young Poisoner's Handbook, The (1995)\",\n",
       " 118: 'If Lucy Fell (1996)',\n",
       " 119: 'Steal Big, Steal Little (1995)',\n",
       " 121: 'Boys of St. Vincent, The (1992)',\n",
       " 122: 'Boomerang (1992)',\n",
       " 123: 'Chungking Express (Chung Hing sam lam) (1994)',\n",
       " 124: \"Star Maker, The (Uomo delle stelle, L') (1995)\",\n",
       " 125: 'Flirting With Disaster (1996)',\n",
       " 126: 'NeverEnding Story III, The (1994)',\n",
       " 129: 'Pie in the Sky (1996)',\n",
       " 130: 'Angela (1995)',\n",
       " 131: 'Frankie Starlight (1995)',\n",
       " 132: 'Jade (1995)',\n",
       " 135: 'Down Periscope (1996)',\n",
       " 137: 'Man of the Year (1995)',\n",
       " 140: 'Up Close and Personal (1996)',\n",
       " 141: 'Birdcage, The (1996)',\n",
       " 144: 'Brothers McMullen, The (1995)',\n",
       " 145: 'Bad Boys (1995)',\n",
       " 146: 'Amazing Panda Adventure, The (1995)',\n",
       " 147: 'Basketball Diaries, The (1995)',\n",
       " 148: 'Awfully Big Adventure, An (1995)',\n",
       " 149: 'Amateur (1994)',\n",
       " 150: 'Apollo 13 (1995)',\n",
       " 151: 'Rob Roy (1995)',\n",
       " 152: 'Addiction, The (1995)',\n",
       " 153: 'Batman Forever (1995)',\n",
       " 154: 'Beauty of the Day (Belle de jour) (1967)',\n",
       " 155: 'Beyond Rangoon (1995)',\n",
       " 156: 'Blue in the Face (1995)',\n",
       " 157: 'Canadian Bacon (1995)',\n",
       " 158: 'Casper (1995)',\n",
       " 159: 'Clockers (1995)',\n",
       " 160: 'Congo (1995)',\n",
       " 161: 'Crimson Tide (1995)',\n",
       " 162: 'Crumb (1994)',\n",
       " 163: 'Desperado (1995)',\n",
       " 164: 'Devil in a Blue Dress (1995)',\n",
       " 165: 'Die Hard: With a Vengeance (1995)',\n",
       " 166: 'Doom Generation, The (1995)',\n",
       " 167: 'Feast of July (1995)',\n",
       " 168: 'First Knight (1995)',\n",
       " 169: 'Free Willy 2: The Adventure Home (1995)',\n",
       " 170: 'Hackers (1995)',\n",
       " 171: 'Jeffrey (1995)',\n",
       " 172: 'Johnny Mnemonic (1995)',\n",
       " 173: 'Judge Dredd (1995)',\n",
       " 174: 'Jury Duty (1995)',\n",
       " 175: 'Kids (1995)',\n",
       " 176: 'Living in Oblivion (1995)',\n",
       " 177: 'Lord of Illusions (1995)',\n",
       " 178: 'Love & Human Remains (1993)',\n",
       " 179: 'Mad Love (1995)',\n",
       " 180: 'Mallrats (1995)',\n",
       " 181: 'Mighty Morphin Power Rangers: The Movie (1995)',\n",
       " 183: 'Mute Witness (1994)',\n",
       " 184: 'Nadja (1994)',\n",
       " 185: 'Net, The (1995)',\n",
       " 186: 'Nine Months (1995)',\n",
       " 187: 'Party Girl (1995)',\n",
       " 188: 'Prophecy, The (1995)',\n",
       " 189: 'Reckless (1995)',\n",
       " 190: 'Safe (1995)',\n",
       " 191: 'Scarlet Letter, The (1995)',\n",
       " 193: 'Showgirls (1995)',\n",
       " 194: 'Smoke (1995)',\n",
       " 195: 'Something to Talk About (1995)',\n",
       " 196: 'Species (1995)',\n",
       " 198: 'Strange Days (1995)',\n",
       " 199: 'Umbrellas of Cherbourg, The (Parapluies de Cherbourg, Les) (1964)',\n",
       " 200: 'Tie That Binds, The (1995)',\n",
       " 201: 'Three Wishes (1995)',\n",
       " 202: 'Total Eclipse (1995)',\n",
       " 203: 'To Wong Foo, Thanks for Everything! Julie Newmar (1995)',\n",
       " 204: 'Under Siege 2: Dark Territory (1995)',\n",
       " 205: 'Unstrung Heroes (1995)',\n",
       " 206: 'Unzipped (1995)',\n",
       " 207: 'Walk in the Clouds, A (1995)',\n",
       " 208: 'Waterworld (1995)',\n",
       " 209: \"White Man's Burden (1995)\",\n",
       " 211: 'Browning Version, The (1994)',\n",
       " 213: 'Burnt by the Sun (Utomlyonnye solntsem) (1994)',\n",
       " 214: 'Before the Rain (Pred dozhdot) (1994)',\n",
       " 215: 'Before Sunrise (1995)',\n",
       " 216: 'Billy Madison (1995)',\n",
       " 217: 'Babysitter, The (1995)',\n",
       " 218: 'Boys on the Side (1995)',\n",
       " 219: 'Cure, The (1995)',\n",
       " 220: 'Castle Freak (1995)',\n",
       " 222: 'Circle of Friends (1995)',\n",
       " 223: 'Clerks (1994)',\n",
       " 224: 'Don Juan DeMarco (1995)',\n",
       " 225: 'Disclosure (1994)',\n",
       " 227: 'Drop Zone (1994)',\n",
       " 228: 'Destiny Turns on the Radio (1995)',\n",
       " 229: 'Death and the Maiden (1994)',\n",
       " 230: 'Dolores Claiborne (1995)',\n",
       " 231: 'Dumb & Dumber (Dumb and Dumber) (1994)',\n",
       " 232: 'Eat Drink Man Woman (Yin shi nan nu) (1994)',\n",
       " 233: 'Exotica (1994)',\n",
       " 234: 'Exit to Eden (1994)',\n",
       " 235: 'Ed Wood (1994)',\n",
       " 236: 'French Kiss (1995)',\n",
       " 237: 'Forget Paris (1995)',\n",
       " 238: 'Far From Home: The Adventures of Yellow Dog (1995)',\n",
       " 239: 'Goofy Movie, A (1995)',\n",
       " 240: 'Hideaway (1995)',\n",
       " 241: 'Fluke (1995)',\n",
       " 242: 'Farinelli: il castrato (1994)',\n",
       " 243: 'Gordy (1995)',\n",
       " 244: 'Gumby: The Movie (1995)',\n",
       " 245: 'The Glass Shield (1994)',\n",
       " 246: 'Hoop Dreams (1994)',\n",
       " 247: 'Heavenly Creatures (1994)',\n",
       " 248: 'Houseguest (1994)',\n",
       " 249: 'Immortal Beloved (1994)',\n",
       " 250: 'Heavyweights (Heavy Weights) (1995)',\n",
       " 251: 'Hunted, The (1995)',\n",
       " 252: 'I.Q. (1994)',\n",
       " 253: 'Interview with the Vampire: The Vampire Chronicles (1994)',\n",
       " 254: 'Jefferson in Paris (1995)',\n",
       " 255: 'Jerky Boys, The (1995)',\n",
       " 256: 'Junior (1994)',\n",
       " 257: 'Just Cause (1995)',\n",
       " 258: \"Kid in King Arthur's Court, A (1995)\",\n",
       " 259: 'Kiss of Death (1995)',\n",
       " 260: 'Star Wars: Episode IV - A New Hope (1977)',\n",
       " 261: 'Little Women (1994)',\n",
       " 262: 'Little Princess, A (1995)',\n",
       " 263: 'Ladybird Ladybird (1994)',\n",
       " 264: \"Enfer, L' (1994)\",\n",
       " 265: 'Like Water for Chocolate (Como agua para chocolate) (1992)',\n",
       " 266: 'Legends of the Fall (1994)',\n",
       " 267: 'Major Payne (1995)',\n",
       " 268: 'Little Odessa (1994)',\n",
       " 269: 'My Crazy Life (Mi vida loca) (1993)',\n",
       " 270: 'Love Affair (1994)',\n",
       " 271: 'Losing Isaiah (1995)',\n",
       " 272: 'Madness of King George, The (1994)',\n",
       " 273: \"Mary Shelley's Frankenstein (Frankenstein) (1994)\",\n",
       " 274: 'Man of the House (1995)',\n",
       " 275: 'Mixed Nuts (1994)',\n",
       " 276: 'Milk Money (1994)',\n",
       " 277: 'Miracle on 34th Street (1994)',\n",
       " 278: 'Miami Rhapsody (1995)',\n",
       " 279: 'My Family (1995)',\n",
       " 280: 'Murder in the First (1995)',\n",
       " 281: \"Nobody's Fool (1994)\",\n",
       " 282: 'Nell (1994)',\n",
       " 283: 'New Jersey Drive (1995)',\n",
       " 285: 'Beyond Bedlam (1993)',\n",
       " 287: 'Nina Takes a Lover (1994)',\n",
       " 288: 'Natural Born Killers (1994)',\n",
       " 289: 'Only You (1994)',\n",
       " 290: 'Once Were Warriors (1994)',\n",
       " 291: 'Poison Ivy II (1996)',\n",
       " 292: 'Outbreak (1995)',\n",
       " 293: 'Léon: The Professional (a.k.a. The Professional) (Léon) (1994)',\n",
       " 294: 'Perez Family, The (1995)',\n",
       " 295: \"Pyromaniac's Love Story, A (1995)\",\n",
       " 296: 'Pulp Fiction (1994)',\n",
       " 299: 'Priest (1994)',\n",
       " 300: 'Quiz Show (1994)',\n",
       " 301: 'Picture Bride (Bijo photo) (1994)',\n",
       " 302: 'Queen Margot (Reine Margot, La) (1994)',\n",
       " 303: 'Quick and the Dead, The (1995)',\n",
       " 304: 'Roommates (1995)',\n",
       " 305: 'Ready to Wear (Pret-A-Porter) (1994)',\n",
       " 306: 'Three Colors: Red (Trois couleurs: Rouge) (1994)',\n",
       " 307: 'Three Colors: Blue (Trois couleurs: Bleu) (1993)',\n",
       " 308: 'Three Colors: White (Trzy kolory: Bialy) (1994)',\n",
       " 309: 'Red Firecracker, Green Firecracker (Pao Da Shuang Deng) (1994)',\n",
       " 312: 'Stuart Saves His Family (1995)',\n",
       " 313: 'Swan Princess, The (1994)',\n",
       " 314: 'Secret of Roan Inish, The (1994)',\n",
       " 315: 'Specialist, The (1994)',\n",
       " 316: 'Stargate (1994)',\n",
       " 317: 'Santa Clause, The (1994)',\n",
       " 318: 'Shawshank Redemption, The (1994)',\n",
       " 319: 'Shallow Grave (1994)',\n",
       " 320: 'Suture (1993)',\n",
       " 321: 'Strawberry and Chocolate (Fresa y chocolate) (1993)',\n",
       " 322: 'Swimming with Sharks (1995)',\n",
       " 324: 'Sum of Us, The (1994)',\n",
       " 325: \"National Lampoon's Senior Trip (1995)\",\n",
       " 326: 'To Live (Huozhe) (1994)',\n",
       " 327: 'Tank Girl (1995)',\n",
       " 328: 'Tales from the Crypt Presents: Demon Knight (1995)',\n",
       " 329: 'Star Trek: Generations (1994)',\n",
       " 330: 'Tales from the Hood (1995)',\n",
       " 331: 'Tom & Viv (1994)',\n",
       " 332: 'Village of the Damned (1995)',\n",
       " 333: 'Tommy Boy (1995)',\n",
       " 334: 'Vanya on 42nd Street (1994)',\n",
       " 335: 'Underneath (1995)',\n",
       " 336: 'Walking Dead, The (1995)',\n",
       " 337: \"What's Eating Gilbert Grape (1993)\",\n",
       " 338: 'Virtuosity (1995)',\n",
       " 339: 'While You Were Sleeping (1995)',\n",
       " 340: 'War, The (1994)',\n",
       " 341: 'Double Happiness (1994)',\n",
       " 342: \"Muriel's Wedding (1994)\",\n",
       " 343: 'Baby-Sitters Club, The (1995)',\n",
       " 344: 'Ace Ventura: Pet Detective (1994)',\n",
       " 345: 'Adventures of Priscilla, Queen of the Desert, The (1994)',\n",
       " 346: 'Backbeat (1993)',\n",
       " 347: 'Bitter Moon (1992)',\n",
       " 348: 'Bullets Over Broadway (1994)',\n",
       " 349: 'Clear and Present Danger (1994)',\n",
       " 350: 'Client, The (1994)',\n",
       " 351: 'Corrina, Corrina (1994)',\n",
       " 352: 'Crooklyn (1994)',\n",
       " 353: 'Crow, The (1994)',\n",
       " 354: 'Cobb (1994)',\n",
       " 355: 'Flintstones, The (1994)',\n",
       " 356: 'Forrest Gump (1994)',\n",
       " 357: 'Four Weddings and a Funeral (1994)',\n",
       " 358: 'Higher Learning (1995)',\n",
       " 360: 'I Love Trouble (1994)',\n",
       " 361: 'It Could Happen to You (1994)',\n",
       " 362: 'Jungle Book, The (1994)',\n",
       " 363: 'Wonderful, Horrible Life of Leni Riefenstahl, The (Macht der Bilder: Leni Riefenstahl, Die) (1993)',\n",
       " 364: 'Lion King, The (1994)',\n",
       " 365: 'Little Buddha (1993)',\n",
       " 366: \"Wes Craven's New Nightmare (Nightmare on Elm Street Part 7: Freddy's Finale, A) (1994)\",\n",
       " 367: 'Mask, The (1994)',\n",
       " 368: 'Maverick (1994)',\n",
       " 369: 'Mrs. Parker and the Vicious Circle (1994)',\n",
       " 370: 'Naked Gun 33 1/3: The Final Insult (1994)',\n",
       " 371: 'Paper, The (1994)',\n",
       " 372: 'Reality Bites (1994)',\n",
       " 373: 'Red Rock West (1992)',\n",
       " 374: 'Richie Rich (1994)',\n",
       " 375: 'Safe Passage (1994)',\n",
       " 376: 'River Wild, The (1994)',\n",
       " 377: 'Speed (1994)',\n",
       " 378: 'Speechless (1994)',\n",
       " 379: 'Timecop (1994)',\n",
       " 380: 'True Lies (1994)',\n",
       " 381: 'When a Man Loves a Woman (1994)',\n",
       " 382: 'Wolf (1994)',\n",
       " 383: 'Wyatt Earp (1994)',\n",
       " 384: 'Bad Company (1995)',\n",
       " 387: 'Low Down Dirty Shame, A (1994)',\n",
       " 388: 'Boys Life (1995)',\n",
       " 389: 'Colonel Chabert, Le (1994)',\n",
       " 390: 'Faster Pussycat! Kill! Kill! (1965)',\n",
       " 391: \"Jason's Lyric (1994)\",\n",
       " 392: 'Secret Adventures of Tom Thumb, The (1993)',\n",
       " 393: 'Street Fighter (1994)',\n",
       " 401: 'Mirage (1995)',\n",
       " 405: 'Highlander III: The Sorcerer (a.k.a. Highlander: The Final Dimension) (1994)',\n",
       " 407: 'In the Mouth of Madness (1995)',\n",
       " 408: '8 Seconds (1994)',\n",
       " 409: 'Above the Rim (1994)',\n",
       " 410: 'Addams Family Values (1993)',\n",
       " 412: 'Age of Innocence, The (1993)',\n",
       " 413: 'Airheads (1994)',\n",
       " 414: 'Air Up There, The (1994)',\n",
       " 415: 'Another Stakeout (1993)',\n",
       " 416: 'Bad Girls (1994)',\n",
       " 417: 'Barcelona (1994)',\n",
       " 418: 'Being Human (1993)',\n",
       " 419: 'Beverly Hillbillies, The (1993)',\n",
       " 420: 'Beverly Hills Cop III (1994)',\n",
       " 421: 'Black Beauty (1994)',\n",
       " 422: 'Blink (1994)',\n",
       " 423: 'Blown Away (1994)',\n",
       " 424: 'Blue Chips (1994)',\n",
       " 425: 'Blue Sky (1994)',\n",
       " 426: 'Body Snatchers (1993)',\n",
       " 427: 'Boxing Helena (1993)',\n",
       " 428: 'Bronx Tale, A (1993)',\n",
       " 429: 'Cabin Boy (1994)',\n",
       " 431: \"Carlito's Way (1993)\",\n",
       " 432: \"City Slickers II: The Legend of Curly's Gold (1994)\",\n",
       " 433: 'Clean Slate (1994)',\n",
       " 434: 'Cliffhanger (1993)',\n",
       " 435: 'Coneheads (1993)',\n",
       " 436: 'Color of Night (1994)',\n",
       " 437: 'Cops and Robbersons (1994)',\n",
       " 438: 'Cowboy Way, The (1994)',\n",
       " 439: 'Dangerous Game (1993)',\n",
       " 440: 'Dave (1993)',\n",
       " 441: 'Dazed and Confused (1993)',\n",
       " 442: 'Demolition Man (1993)',\n",
       " 443: 'Endless Summer 2, The (1994)',\n",
       " 444: 'Even Cowgirls Get the Blues (1993)',\n",
       " 445: 'Fatal Instinct (1993)',\n",
       " 446: 'Farewell My Concubine (Ba wang bie ji) (1993)',\n",
       " 447: 'Favor, The (1994)',\n",
       " 448: 'Fearless (1993)',\n",
       " 449: 'Fear of a Black Hat (1994)',\n",
       " 450: 'With Honors (1994)',\n",
       " 451: 'Flesh and Bone (1993)',\n",
       " 452: \"Widows' Peak (1994)\",\n",
       " 453: 'For Love or Money (1993)',\n",
       " 454: 'Firm, The (1993)',\n",
       " 455: 'Free Willy (1993)',\n",
       " 456: 'Fresh (1994)',\n",
       " 457: 'Fugitive, The (1993)',\n",
       " 458: 'Geronimo: An American Legend (1993)',\n",
       " 459: 'Getaway, The (1994)',\n",
       " 460: 'Getting Even with Dad (1994)',\n",
       " 461: 'Go Fish (1994)',\n",
       " 463: 'Guilty as Sin (1993)',\n",
       " 464: 'Hard Target (1993)',\n",
       " 465: 'Heaven & Earth (1993)',\n",
       " 466: 'Hot Shots! Part Deux (1993)',\n",
       " 467: 'Live Nude Girls (1995)',\n",
       " 468: 'Englishman Who Went Up a Hill But Came Down a Mountain, The (1995)',\n",
       " 469: 'House of the Spirits, The (1993)',\n",
       " 470: 'House Party 3 (1994)',\n",
       " 471: 'Hudsucker Proxy, The (1994)',\n",
       " 472: \"I'll Do Anything (1994)\",\n",
       " 473: 'In the Army Now (1994)',\n",
       " 474: 'In the Line of Fire (1993)',\n",
       " 475: 'In the Name of the Father (1993)',\n",
       " 476: 'Inkwell, The (1994)',\n",
       " 477: \"What's Love Got to Do with It? (1993)\",\n",
       " 479: 'Judgment Night (1993)',\n",
       " 480: 'Jurassic Park (1993)',\n",
       " 481: 'Kalifornia (1993)',\n",
       " 482: 'Killing Zoe (1994)',\n",
       " 483: 'King of the Hill (1993)',\n",
       " 484: 'Lassie (1994)',\n",
       " 485: 'Last Action Hero (1993)',\n",
       " 486: 'Life with Mikey (1993)',\n",
       " 487: 'Lightning Jack (1994)',\n",
       " 488: 'M. Butterfly (1993)',\n",
       " 489: 'Made in America (1993)',\n",
       " 490: 'Malice (1993)',\n",
       " 491: 'Man Without a Face, The (1993)',\n",
       " 492: 'Manhattan Murder Mystery (1993)',\n",
       " 493: 'Menace II Society (1993)',\n",
       " 494: 'Executive Decision (1996)',\n",
       " 495: 'In the Realm of the Senses (Ai no corrida) (1976)',\n",
       " 496: 'What Happened Was... (1994)',\n",
       " 497: 'Much Ado About Nothing (1993)',\n",
       " 498: 'Mr. Jones (1993)',\n",
       " 499: 'Mr. Wonderful (1993)',\n",
       " 500: 'Mrs. Doubtfire (1993)',\n",
       " 501: 'Naked (1993)',\n",
       " 502: 'Next Karate Kid, The (1994)',\n",
       " 504: 'No Escape (1994)',\n",
       " 505: 'North (1994)',\n",
       " 506: 'Orlando (1992)',\n",
       " 507: 'Perfect World, A (1993)',\n",
       " 508: 'Philadelphia (1993)',\n",
       " 509: 'Piano, The (1993)',\n",
       " 510: 'Poetic Justice (1993)',\n",
       " 511: 'Program, The (1993)',\n",
       " 512: 'Puppet Masters, The (1994)',\n",
       " 513: 'Radioland Murders (1994)',\n",
       " 514: 'Ref, The (1994)',\n",
       " 515: 'Remains of the Day, The (1993)',\n",
       " 516: 'Renaissance Man (1994)',\n",
       " 517: 'Rising Sun (1993)',\n",
       " 518: 'Road to Wellville, The (1994)',\n",
       " 519: 'RoboCop 3 (1993)',\n",
       " 520: 'Robin Hood: Men in Tights (1993)',\n",
       " 521: 'Romeo Is Bleeding (1993)',\n",
       " 522: 'Romper Stomper (1992)',\n",
       " 523: 'Ruby in Paradise (1993)',\n",
       " 524: 'Rudy (1993)',\n",
       " 526: 'Savage Nights (Nuits fauves, Les) (1992)',\n",
       " 527: \"Schindler's List (1993)\",\n",
       " 528: 'Scout, The (1994)',\n",
       " 529: 'Searching for Bobby Fischer (1993)',\n",
       " 531: 'Secret Garden, The (1993)',\n",
       " 532: 'Serial Mom (1994)',\n",
       " 533: 'Shadow, The (1994)',\n",
       " 534: 'Shadowlands (1993)',\n",
       " 535: 'Short Cuts (1993)',\n",
       " 536: 'Simple Twist of Fate, A (1994)',\n",
       " 537: 'Sirens (1994)',\n",
       " 538: 'Six Degrees of Separation (1993)',\n",
       " 539: 'Sleepless in Seattle (1993)',\n",
       " 540: 'Sliver (1993)',\n",
       " 541: 'Blade Runner (1982)',\n",
       " 542: 'Son in Law (1993)',\n",
       " 543: 'So I Married an Axe Murderer (1993)',\n",
       " 544: 'Striking Distance (1993)',\n",
       " 546: 'Super Mario Bros. (1993)',\n",
       " 547: 'Surviving the Game (1994)',\n",
       " 548: 'Terminal Velocity (1994)',\n",
       " 549: 'Thirty-Two Short Films About Glenn Gould (1993)',\n",
       " 550: 'Threesome (1994)',\n",
       " 551: 'Nightmare Before Christmas, The (1993)',\n",
       " 552: 'Three Musketeers, The (1993)',\n",
       " 553: 'Tombstone (1993)',\n",
       " 554: 'Trial by Jury (1994)',\n",
       " 555: 'True Romance (1993)',\n",
       " 556: 'War Room, The (1993)',\n",
       " 558: 'Pagemaster, The (1994)',\n",
       " 559: 'Paris, France (1993)',\n",
       " 561: 'Killer (Bulletproof Heart) (1994)',\n",
       " 562: 'Welcome to the Dollhouse (1995)',\n",
       " 563: 'Germinal (1993)',\n",
       " 564: 'Chasers (1994)',\n",
       " 565: 'Cronos (1993)',\n",
       " 567: 'Kika (1993)',\n",
       " 568: 'Bhaji on the Beach (1993)',\n",
       " 569: 'Little Big League (1994)',\n",
       " 571: 'Wedding Gift, The (1994)',\n",
       " 573: 'Ciao, Professore! (Io speriamo che me la cavo) (1992)',\n",
       " 574: 'Spanking the Monkey (1994)',\n",
       " 575: 'Little Rascals, The (1994)',\n",
       " 577: 'Andre (1994)',\n",
       " 580: 'Princess Caraboo (1994)',\n",
       " 581: 'Celluloid Closet, The (1995)',\n",
       " 582: 'Métisse (Café au Lait) (1993)',\n",
       " 585: 'Brady Bunch Movie, The (1995)',\n",
       " 586: 'Home Alone (1990)',\n",
       " 587: 'Ghost (1990)',\n",
       " 588: 'Aladdin (1992)',\n",
       " 589: 'Terminator 2: Judgment Day (1991)',\n",
       " 590: 'Dances with Wolves (1990)',\n",
       " 592: 'Batman (1989)',\n",
       " 593: 'Silence of the Lambs, The (1991)',\n",
       " 594: 'Snow White and the Seven Dwarfs (1937)',\n",
       " 595: 'Beauty and the Beast (1991)',\n",
       " 596: 'Pinocchio (1940)',\n",
       " 597: 'Pretty Woman (1990)',\n",
       " 599: 'Wild Bunch, The (1969)',\n",
       " 600: 'Love and a .45 (1994)',\n",
       " 603: 'Bye Bye, Love (1995)',\n",
       " 605: 'One Fine Day (1996)',\n",
       " 606: 'Candyman: Farewell to the Flesh (1995)',\n",
       " 608: 'Fargo (1996)',\n",
       " 609: 'Homeward Bound II: Lost in San Francisco (1996)',\n",
       " 610: 'Heavy Metal (1981)',\n",
       " 611: 'Hellraiser: Bloodline (1996)',\n",
       " 612: 'Pallbearer, The (1996)',\n",
       " 613: 'Jane Eyre (1996)',\n",
       " 614: 'Loaded (1994)',\n",
       " 615: 'Bread and Chocolate (Pane e cioccolata) (1973)',\n",
       " 616: 'Aristocats, The (1970)',\n",
       " 617: 'Flower of My Secret, The (La flor de mi secreto) (1995)',\n",
       " 619: 'Ed (1996)',\n",
       " 620: 'Scream of Stone (Cerro Torre: Schrei aus Stein) (1991)',\n",
       " 621: 'My Favorite Season (1993)',\n",
       " 626: 'Thin Line Between Love and Hate, A (1996)',\n",
       " 627: 'Last Supper, The (1995)',\n",
       " 628: 'Primal Fear (1996)',\n",
       " 630: 'Carried Away (1996)',\n",
       " 631: 'All Dogs Go to Heaven 2 (1996)',\n",
       " 632: 'Land and Freedom (Tierra y libertad) (1995)',\n",
       " 633: 'Denise Calls Up (1995)',\n",
       " 635: 'Family Thing, A (1996)',\n",
       " 637: 'Sgt. Bilko (1996)',\n",
       " 638: 'Jack and Sarah (1995)',\n",
       " 639: 'Girl 6 (1996)',\n",
       " 640: 'Diabolique (1996)',\n",
       " 647: 'Courage Under Fire (1996)',\n",
       " 648: 'Mission: Impossible (1996)',\n",
       " 650: 'Moll Flanders (1996)',\n",
       " 651: 'Superweib, Das (1996)',\n",
       " 653: 'Dragonheart (1996)',\n",
       " 656: 'Eddie (1996)',\n",
       " 659: 'Purple Noon (Plein soleil) (1960)',\n",
       " 661: 'James and the Giant Peach (1996)',\n",
       " 662: 'Fear (1996)',\n",
       " 663: 'Kids in the Hall: Brain Candy (1996)',\n",
       " 664: 'Faithful (1996)',\n",
       " 665: 'Underground (1995)',\n",
       " 667: 'Bloodsport 2 (a.k.a. Bloodsport II: The Next Kumite) (1996)',\n",
       " 668: 'Song of the Little Road (Pather Panchali) (1955)',\n",
       " 670: 'World of Apu, The (Apur Sansar) (1959)',\n",
       " 671: 'Mystery Science Theater 3000: The Movie (1996)',\n",
       " 673: 'Space Jam (1996)',\n",
       " 674: 'Barbarella (1968)',\n",
       " 678: 'Some Folks Call It a Sling Blade (1993)',\n",
       " 679: 'Run of the Country, The (1995)',\n",
       " 680: 'Alphaville (Alphaville, une étrange aventure de Lemmy Caution) (1965)',\n",
       " 681: 'Coup de torchon (Clean Slate) (1981)',\n",
       " 685: \"It's My Party (1996)\",\n",
       " 687: 'Country Life (1994)',\n",
       " 688: 'Operation Dumbo Drop (1995)',\n",
       " 690: 'Promise, The (Versprechen, Das) (1995)',\n",
       " 691: 'Mrs. Winterbourne (1996)',\n",
       " 692: 'Solo (1996)',\n",
       " 694: 'Substitute, The (1996)',\n",
       " 695: 'True Crime (1996)',\n",
       " 696: 'Butterfly Kiss (1995)',\n",
       " 697: 'Feeling Minnesota (1996)',\n",
       " 698: 'Delta of Venus (1995)',\n",
       " 700: 'Angus (1995)',\n",
       " 702: 'Faces (1968)',\n",
       " 703: 'Boys (1996)',\n",
       " 704: 'Quest, The (1996)',\n",
       " 705: 'Cosi (1996)',\n",
       " 707: 'Mulholland Falls (1996)',\n",
       " 708: 'Truth About Cats & Dogs, The (1996)',\n",
       " 709: 'Oliver & Company (1988)',\n",
       " 710: 'Celtic Pride (1996)',\n",
       " 711: 'Flipper (1996)',\n",
       " 714: 'Dead Man (1995)',\n",
       " 715: 'Horseman on the Roof, The (Hussard sur le toit, Le) (1995)',\n",
       " 718: 'Visitors, The (Visiteurs, Les) (1993)',\n",
       " 719: 'Multiplicity (1996)',\n",
       " 720: 'Wallace & Gromit: The Best of Aardman Animation (1996)',\n",
       " 721: 'Halfmoon (Paul Bowles - Halbmond) (1995)',\n",
       " 722: 'Haunted World of Edward D. Wood Jr., The (1996)',\n",
       " 724: 'Craft, The (1996)',\n",
       " 725: 'Great White Hype, The (1996)',\n",
       " 726: 'Last Dance (1996)',\n",
       " 728: 'Cold Comfort Farm (1995)',\n",
       " 731: \"Heaven's Prisoners (1996)\",\n",
       " 733: 'Rock, The (1996)',\n",
       " 735: 'Cemetery Man (Dellamorte Dellamore) (1994)',\n",
       " 736: 'Twister (1996)',\n",
       " 737: 'Barb Wire (1996)',\n",
       " 741: 'Ghost in the Shell (Kôkaku kidôtai) (1995)',\n",
       " 742: 'Thinner (1996)',\n",
       " 743: 'Spy Hard (1996)',\n",
       " 745: 'Wallace & Gromit: A Close Shave (1995)',\n",
       " 746: 'Force of Evil (1948)',\n",
       " 747: 'Stupids, The (1996)',\n",
       " 748: 'Arrival, The (1996)',\n",
       " 750: 'Dr. Strangelove or: How I Learned to Stop Worrying and Love the Bomb (1964)',\n",
       " 753: 'Month by the Lake, A (1995)',\n",
       " 754: 'Gold Diggers: The Secret of Bear Mountain (1995)',\n",
       " 755: 'Kim (1950)',\n",
       " 756: 'Carmen Miranda: Bananas Is My Business (1994)',\n",
       " 757: 'Ashes of Time (Dung che sai duk) (1994)',\n",
       " 759: 'Maya Lin: A Strong Clear Vision (1994)',\n",
       " 760: 'Stalingrad (1993)',\n",
       " 761: 'Phantom, The (1996)',\n",
       " 762: 'Striptease (1996)',\n",
       " 764: 'Heavy (1995)',\n",
       " 765: 'Jack (1996)',\n",
       " 766: 'I Shot Andy Warhol (1996)',\n",
       " 767: 'Grass Harp, The (1995)',\n",
       " 769: 'Marlene Dietrich: Shadow and Light (1996)',\n",
       " 775: 'Spirits of the Dead (1968)',\n",
       " 778: 'Trainspotting (1996)',\n",
       " 779: \"'Til There Was You (1997)\",\n",
       " 780: 'Independence Day (a.k.a. ID4) (1996)',\n",
       " 781: 'Stealing Beauty (1996)',\n",
       " 782: 'Fan, The (1996)',\n",
       " 783: 'Hunchback of Notre Dame, The (1996)',\n",
       " 784: 'Cable Guy, The (1996)',\n",
       " 785: 'Kingpin (1996)',\n",
       " 786: 'Eraser (1996)',\n",
       " 787: 'Gate of Heavenly Peace, The (1995)',\n",
       " 788: 'Nutty Professor, The (1996)',\n",
       " 793: \"My Life and Times With Antonin Artaud (En compagnie d'Antonin Artaud) (1993)\",\n",
       " 798: 'Daylight (1996)',\n",
       " 799: 'Frighteners, The (1996)',\n",
       " 800: 'Lone Star (1996)',\n",
       " 801: 'Harriet the Spy (1996)',\n",
       " 802: 'Phenomenon (1996)',\n",
       " 803: 'Walking and Talking (1996)',\n",
       " 804: \"She's the One (1996)\",\n",
       " 805: 'Time to Kill, A (1996)',\n",
       " 806: 'American Buffalo (1996)',\n",
       " 808: 'Alaska (1996)',\n",
       " 809: 'Fled (1996)',\n",
       " 810: 'Kazaam (1996)',\n",
       " 813: 'Larger Than Life (1996)',\n",
       " 816: 'Two Deaths (1995)',\n",
       " 818: 'Very Brady Sequel, A (1996)',\n",
       " 820: 'Death in the Garden (Mort en ce jardin, La) (1956)',\n",
       " 824: 'Kaspar Hauser (1993)',\n",
       " 828: 'Adventures of Pinocchio, The (1996)',\n",
       " 829: \"Joe's Apartment (1996)\",\n",
       " 830: 'First Wives Club, The (1996)',\n",
       " 831: 'Stonewall (1995)',\n",
       " 832: 'Ransom (1996)',\n",
       " 833: 'High School High (1996)',\n",
       " 834: 'Phat Beach (1996)',\n",
       " 835: 'Foxfire (1996)',\n",
       " 836: 'Chain Reaction (1996)',\n",
       " 837: 'Matilda (1996)',\n",
       " 838: 'Emma (1996)',\n",
       " 839: 'Crow: City of Angels, The (1996)',\n",
       " 840: 'House Arrest (1996)',\n",
       " 841: 'Eyes Without a Face (Yeux sans visage, Les) (1959)',\n",
       " 842: 'Tales from the Crypt Presents: Bordello of Blood (1996)',\n",
       " 844: 'Story of Xinghua, The (Xinghua san yue tian) (1994)',\n",
       " 845: 'Day the Sun Turned Cold, The (Tianguo niezi) (1994)',\n",
       " 846: 'Flirt (1995)',\n",
       " 848: 'Spitfire Grill, The (1996)',\n",
       " 849: 'Escape from L.A. (1996)',\n",
       " 850: 'Cyclo (Xich lo) (1995)',\n",
       " 851: 'Basquiat (1996)',\n",
       " 852: 'Tin Cup (1996)',\n",
       " 854: 'Ballad of Narayama, The (Narayama Bushiko) (1958)',\n",
       " 858: 'Godfather, The (1972)',\n",
       " 861: 'Supercop (Police Story 3: Supercop) (Jing cha gu shi III: Chao ji jing cha) (1992)',\n",
       " 864: 'Wife, The (1995)',\n",
       " 865: 'Small Faces (1996)',\n",
       " 866: 'Bound (1996)',\n",
       " 867: 'Carpool (1996)',\n",
       " 869: 'Kansas City (1996)',\n",
       " 870: \"Gone Fishin' (1997)\",\n",
       " 872: \"Vive L'Amour (Ai qing wan sui) (1994)\",\n",
       " 875: 'Nothing to Lose (1994)',\n",
       " 876: 'Supercop 2 (Project S) (Chao ji ji hua) (1993)',\n",
       " 879: 'Relic, The (1997)',\n",
       " 880: 'Island of Dr. Moreau, The (1996)',\n",
       " 881: 'First Kid (1996)',\n",
       " 882: 'Trigger Effect, The (1996)',\n",
       " 885: 'Bogus (1996)',\n",
       " 886: 'Bulletproof (1996)',\n",
       " 888: 'Land Before Time III: The Time of the Great Giving (1995)',\n",
       " 889: '1-900 (06) (1994)',\n",
       " 891: 'Halloween: The Curse of Michael Myers (Halloween 6: The Curse of Michael Myers) (1995)',\n",
       " 892: 'Twelfth Night (1996)',\n",
       " 893: 'Mother Night (1996)',\n",
       " 896: 'Wild Reeds (Les roseaux sauvages) (1994)',\n",
       " 897: 'For Whom the Bell Tolls (1943)',\n",
       " 898: 'Philadelphia Story, The (1940)',\n",
       " 899: \"Singin' in the Rain (1952)\",\n",
       " 900: 'American in Paris, An (1951)',\n",
       " 901: 'Funny Face (1957)',\n",
       " 902: \"Breakfast at Tiffany's (1961)\",\n",
       " 903: 'Vertigo (1958)',\n",
       " 904: 'Rear Window (1954)',\n",
       " 905: 'It Happened One Night (1934)',\n",
       " 906: 'Gaslight (1944)',\n",
       " 907: 'Gay Divorcee, The (1934)',\n",
       " 908: 'North by Northwest (1959)',\n",
       " 909: 'Apartment, The (1960)',\n",
       " 910: 'Some Like It Hot (1959)',\n",
       " 911: 'Charade (1963)',\n",
       " 912: 'Casablanca (1942)',\n",
       " 913: 'Maltese Falcon, The (1941)',\n",
       " 914: 'My Fair Lady (1964)',\n",
       " 915: 'Sabrina (1954)',\n",
       " 916: 'Roman Holiday (1953)',\n",
       " 917: 'Little Princess, The (1939)',\n",
       " 918: 'Meet Me in St. Louis (1944)',\n",
       " 919: 'Wizard of Oz, The (1939)',\n",
       " 920: 'Gone with the Wind (1939)',\n",
       " 921: 'My Favorite Year (1982)',\n",
       " 922: 'Sunset Blvd. (a.k.a. Sunset Boulevard) (1950)',\n",
       " 923: 'Citizen Kane (1941)',\n",
       " 924: '2001: A Space Odyssey (1968)',\n",
       " 926: 'All About Eve (1950)',\n",
       " 927: 'Women, The (1939)',\n",
       " 928: 'Rebecca (1940)',\n",
       " 929: 'Foreign Correspondent (1940)',\n",
       " 930: 'Notorious (1946)',\n",
       " 931: 'Spellbound (1945)',\n",
       " 932: 'Affair to Remember, An (1957)',\n",
       " 933: 'To Catch a Thief (1955)',\n",
       " 934: 'Father of the Bride (1950)',\n",
       " 935: 'Band Wagon, The (1953)',\n",
       " 936: 'Ninotchka (1939)',\n",
       " 937: 'Love in the Afternoon (1957)',\n",
       " 938: 'Gigi (1958)',\n",
       " 939: 'Reluctant Debutante, The (1958)',\n",
       " 940: 'Adventures of Robin Hood, The (1938)',\n",
       " 941: 'Mark of Zorro, The (1940)',\n",
       " 942: 'Laura (1944)',\n",
       " 943: 'Ghost and Mrs. Muir, The (1947)',\n",
       " 944: 'Lost Horizon (1937)',\n",
       " 945: 'Top Hat (1935)',\n",
       " 946: 'To Be or Not to Be (1942)',\n",
       " 947: 'My Man Godfrey (1936)',\n",
       " 948: 'Giant (1956)',\n",
       " 949: 'East of Eden (1955)',\n",
       " 950: 'Thin Man, The (1934)',\n",
       " 951: 'His Girl Friday (1940)',\n",
       " 952: 'Around the World in 80 Days (1956)',\n",
       " 953: \"It's a Wonderful Life (1946)\",\n",
       " 954: 'Mr. Smith Goes to Washington (1939)',\n",
       " 955: 'Bringing Up Baby (1938)',\n",
       " 956: 'Penny Serenade (1941)',\n",
       " 957: 'Scarlet Letter, The (1926)',\n",
       " 960: 'Angel on My Shoulder (1946)',\n",
       " 961: 'Little Lord Fauntleroy (1936)',\n",
       " 962: 'They Made Me a Criminal (1939)',\n",
       " 963: 'Inspector General, The (1949)',\n",
       " 964: 'Angel and the Badman (1947)',\n",
       " 965: '39 Steps, The (1935)',\n",
       " 966: 'A Walk in the Sun (1945)',\n",
       " 968: 'Night of the Living Dead (1968)',\n",
       " 969: 'African Queen, The (1951)',\n",
       " 970: 'Beat the Devil (1953)',\n",
       " 971: 'Cat on a Hot Tin Roof (1958)',\n",
       " 972: 'Last Time I Saw Paris, The (1954)',\n",
       " 973: 'Meet John Doe (1941)',\n",
       " 976: 'Farewell to Arms, A (1932)',\n",
       " 980: 'Yes, Madam (a.k.a. Police Assassins) (a.k.a. In the Line of Duty 2) (Huang gu shi jie) (1985)',\n",
       " 981: 'Dangerous Ground (1997)',\n",
       " 982: 'Picnic (1955)',\n",
       " 984: 'Pompatus of Love, The (1996)',\n",
       " 986: 'Fly Away Home (1996)',\n",
       " 987: 'Bliss (1997)',\n",
       " 988: 'Grace of My Heart (1996)',\n",
       " 990: 'Maximum Risk (1996)',\n",
       " 991: 'Michael Collins (1996)',\n",
       " 992: \"Rich Man's Wife, The (1996)\",\n",
       " 994: 'Big Night (1996)',\n",
       " 996: 'Last Man Standing (1996)',\n",
       " 997: 'Caught (1996)',\n",
       " 998: 'Set It Off (1996)',\n",
       " 999: '2 Days in the Valley (1996)',\n",
       " 1003: 'Extreme Measures (1996)',\n",
       " 1004: 'Glimmer Man, The (1996)',\n",
       " 1005: 'D3: The Mighty Ducks (1996)',\n",
       " 1006: 'Chamber, The (1996)',\n",
       " 1007: 'Apple Dumpling Gang, The (1975)',\n",
       " 1008: 'Davy Crockett, King of the Wild Frontier (1955)',\n",
       " 1009: 'Escape to Witch Mountain (1975)',\n",
       " 1010: 'Love Bug, The (1969)',\n",
       " 1011: 'Herbie Rides Again (1974)',\n",
       " 1012: 'Old Yeller (1957)',\n",
       " 1013: 'Parent Trap, The (1961)',\n",
       " 1014: 'Pollyanna (1960)',\n",
       " 1015: 'Homeward Bound: The Incredible Journey (1993)',\n",
       " 1016: 'Shaggy Dog, The (1959)',\n",
       " 1017: 'Swiss Family Robinson (1960)',\n",
       " 1018: 'That Darn Cat! (1965)',\n",
       " 1019: '20,000 Leagues Under the Sea (1954)',\n",
       " 1020: 'Cool Runnings (1993)',\n",
       " 1021: 'Angels in the Outfield (1994)',\n",
       " 1022: 'Cinderella (1950)',\n",
       " 1023: 'Winnie the Pooh and the Blustery Day (1968)',\n",
       " 1024: 'Three Caballeros, The (1945)',\n",
       " 1025: 'Sword in the Stone, The (1963)',\n",
       " 1026: 'So Dear to My Heart (1949)',\n",
       " 1027: 'Robin Hood: Prince of Thieves (1991)',\n",
       " 1028: 'Mary Poppins (1964)',\n",
       " 1029: 'Dumbo (1941)',\n",
       " 1030: \"Pete's Dragon (1977)\",\n",
       " 1031: 'Bedknobs and Broomsticks (1971)',\n",
       " 1032: 'Alice in Wonderland (1951)',\n",
       " 1033: 'Fox and the Hound, The (1981)',\n",
       " 1034: 'Freeway (1996)',\n",
       " 1035: 'Sound of Music, The (1965)',\n",
       " 1036: 'Die Hard (1988)',\n",
       " 1037: 'Lawnmower Man, The (1992)',\n",
       " 1040: 'Secret Agent, The (1996)',\n",
       " 1041: 'Secrets & Lies (1996)',\n",
       " 1042: 'That Thing You Do! (1996)',\n",
       " 1043: 'To Gillian on Her 37th Birthday (1996)',\n",
       " 1044: 'Surviving Picasso (1996)',\n",
       " 1046: 'Beautiful Thing (1996)',\n",
       " 1047: 'Long Kiss Goodnight, The (1996)',\n",
       " 1049: 'Ghost and the Darkness, The (1996)',\n",
       " 1050: 'Looking for Richard (1996)',\n",
       " 1051: 'Trees Lounge (1996)',\n",
       " 1053: 'Normal Life (1996)',\n",
       " 1054: 'Get on the Bus (1996)',\n",
       " 1055: 'Shadow Conspiracy (1997)',\n",
       " 1056: 'Jude (1996)',\n",
       " 1057: 'Everyone Says I Love You (1996)',\n",
       " 1059: \"William Shakespeare's Romeo + Juliet (1996)\",\n",
       " 1060: 'Swingers (1996)',\n",
       " 1061: 'Sleepers (1996)',\n",
       " 1063: 'Johns (1996)',\n",
       " 1064: 'Aladdin and the King of Thieves (1996)',\n",
       " 1066: 'Shall We Dance (1937)',\n",
       " 1067: 'Damsel in Distress, A (1937)',\n",
       " 1068: 'Crossfire (1947)',\n",
       " 1069: 'Murder, My Sweet (1944)',\n",
       " 1073: 'Willy Wonka & the Chocolate Factory (1971)',\n",
       " 1076: 'Innocents, The (1961)',\n",
       " 1077: 'Sleeper (1973)',\n",
       " 1078: 'Bananas (1971)',\n",
       " 1079: 'Fish Called Wanda, A (1988)',\n",
       " 1080: \"Monty Python's Life of Brian (1979)\",\n",
       " 1081: 'Victor/Victoria (1982)',\n",
       " 1082: 'Candidate, The (1972)',\n",
       " 1083: 'Great Race, The (1965)',\n",
       " 1084: 'Bonnie and Clyde (1967)',\n",
       " 1085: 'Old Man and the Sea, The (1958)',\n",
       " 1086: 'Dial M for Murder (1954)',\n",
       " 1087: 'Madame Butterfly (1995)',\n",
       " 1088: 'Dirty Dancing (1987)',\n",
       " 1089: 'Reservoir Dogs (1992)',\n",
       " 1090: 'Platoon (1986)',\n",
       " 1091: \"Weekend at Bernie's (1989)\",\n",
       " 1092: 'Basic Instinct (1992)',\n",
       " 1093: 'Doors, The (1991)',\n",
       " 1094: 'Crying Game, The (1992)',\n",
       " 1095: 'Glengarry Glen Ross (1992)',\n",
       " 1096: \"Sophie's Choice (1982)\",\n",
       " 1097: 'E.T. the Extra-Terrestrial (1982)',\n",
       " 1099: 'Christmas Carol, A (1938)',\n",
       " 1100: 'Days of Thunder (1990)',\n",
       " 1101: 'Top Gun (1986)',\n",
       " 1103: 'Rebel Without a Cause (1955)',\n",
       " 1104: 'Streetcar Named Desire, A (1951)',\n",
       " 1105: 'Children of the Corn IV: The Gathering (1996)',\n",
       " 1111: \"Microcosmos (Microcosmos: Le peuple de l'herbe) (1996)\",\n",
       " 1112: 'Palookaville (1996)',\n",
       " 1113: 'Associate, The (1996)',\n",
       " 1114: 'Funeral, The (1996)',\n",
       " 1120: 'People vs. Larry Flynt, The (1996)',\n",
       " 1123: 'Perfect Candidate, A (1996)',\n",
       " 1124: 'On Golden Pond (1981)',\n",
       " 1125: 'Return of the Pink Panther, The (1975)',\n",
       " 1126: 'Drop Dead Fred (1991)',\n",
       " 1127: 'Abyss, The (1989)',\n",
       " 1128: 'Fog, The (1980)',\n",
       " 1129: 'Escape from New York (1981)',\n",
       " 1130: 'Howling, The (1980)',\n",
       " 1131: 'Jean de Florette (1986)',\n",
       " 1132: 'Manon of the Spring (Manon des sources) (1986)',\n",
       " 1133: 'Talking About Sex (1994)',\n",
       " 1135: 'Private Benjamin (1980)',\n",
       " 1136: 'Monty Python and the Holy Grail (1975)',\n",
       " 1137: 'Hustler White (1996)',\n",
       " 1145: 'Snowriders (1996)',\n",
       " 1147: 'When We Were Kings (1996)',\n",
       " 1148: 'Wallace & Gromit: The Wrong Trousers (1993)',\n",
       " 1150: 'Return of Martin Guerre, The (Retour de Martin Guerre, Le) (1982)',\n",
       " 1151: 'Lesson Faust (1994)',\n",
       " 1152: 'He Walked by Night (1948)',\n",
       " 1153: 'Raw Deal (1948)',\n",
       " 1154: 'T-Men (1947)',\n",
       " 1161: 'Tin Drum, The (Blechtrommel, Die) (1979)',\n",
       " 1162: 'Ruling Class, The (1972)',\n",
       " 1163: 'Mina Tannenbaum (1994)',\n",
       " 1164: \"2 ou 3 choses que je sais d'elle (2 or 3 Things I Know About Her) (1967)\",\n",
       " 1165: 'Bloody Child, The (1996)',\n",
       " 1167: 'Dear God (1996)',\n",
       " 1168: 'Bad Moon (1996)',\n",
       " 1169: 'American Dream (1990)',\n",
       " 1171: 'Bob Roberts (1992)',\n",
       " 1172: 'Cinema Paradiso (Nuovo cinema Paradiso) (1989)',\n",
       " 1173: 'Cook the Thief His Wife & Her Lover, The (1989)',\n",
       " 1174: 'Dead Tired (Grosse Fatigue) (1994)',\n",
       " 1175: 'Delicatessen (1991)',\n",
       " 1176: 'Double Life of Veronique, The (Double Vie de Véronique, La) (1991)',\n",
       " 1177: 'Enchanted April (1992)',\n",
       " 1178: 'Paths of Glory (1957)',\n",
       " 1179: 'Grifters, The (1990)',\n",
       " 1180: 'Hear My Song (1991)',\n",
       " 1181: 'Shooter, The (1997)',\n",
       " 1183: 'English Patient, The (1996)',\n",
       " 1184: 'Mediterraneo (1991)',\n",
       " 1185: 'My Left Foot (1989)',\n",
       " 1186: 'Sex, Lies, and Videotape (1989)',\n",
       " 1187: 'Passion Fish (1992)',\n",
       " 1188: 'Strictly Ballroom (1992)',\n",
       " 1189: 'Thin Blue Line, The (1988)',\n",
       " 1190: 'Tie Me Up! Tie Me Down! (¡Átame!) (1990)',\n",
       " 1191: 'Madonna: Truth or Dare (1991)',\n",
       " 1192: 'Paris Is Burning (1990)',\n",
       " 1193: \"One Flew Over the Cuckoo's Nest (1975)\",\n",
       " 1194: \"Cheech and Chong's Up in Smoke (1978)\",\n",
       " 1196: 'Star Wars: Episode V - The Empire Strikes Back (1980)',\n",
       " 1197: 'Princess Bride, The (1987)',\n",
       " 1198: 'Raiders of the Lost Ark (Indiana Jones and the Raiders of the Lost Ark) (1981)',\n",
       " 1199: 'Brazil (1985)',\n",
       " 1200: 'Aliens (1986)',\n",
       " 1201: 'Good, the Bad and the Ugly, The (Buono, il brutto, il cattivo, Il) (1966)',\n",
       " 1202: 'Withnail & I (1987)',\n",
       " 1203: '12 Angry Men (1957)',\n",
       " 1204: 'Lawrence of Arabia (1962)',\n",
       " 1206: 'Clockwork Orange, A (1971)',\n",
       " 1207: 'To Kill a Mockingbird (1962)',\n",
       " 1208: 'Apocalypse Now (1979)',\n",
       " 1209: \"Once Upon a Time in the West (C'era una volta il West) (1968)\",\n",
       " 1210: 'Star Wars: Episode VI - Return of the Jedi (1983)',\n",
       " 1211: 'Wings of Desire (Himmel über Berlin, Der) (1987)',\n",
       " 1212: 'Third Man, The (1949)',\n",
       " 1213: 'Goodfellas (1990)',\n",
       " 1214: 'Alien (1979)',\n",
       " 1215: 'Army of Darkness (1993)',\n",
       " 1216: 'Big Blue, The (Grand bleu, Le) (1988)',\n",
       " 1217: 'Ran (1985)',\n",
       " 1218: 'Killer, The (Die xue shuang xiong) (1989)',\n",
       " 1219: 'Psycho (1960)',\n",
       " 1220: 'Blues Brothers, The (1980)',\n",
       " 1221: 'Godfather: Part II, The (1974)',\n",
       " 1222: 'Full Metal Jacket (1987)',\n",
       " 1223: 'Grand Day Out with Wallace and Gromit, A (1989)',\n",
       " 1224: 'Henry V (1989)',\n",
       " 1225: 'Amadeus (1984)',\n",
       " 1226: 'Quiet Man, The (1952)',\n",
       " 1227: 'Once Upon a Time in America (1984)',\n",
       " 1228: 'Raging Bull (1980)',\n",
       " 1230: 'Annie Hall (1977)',\n",
       " 1231: 'Right Stuff, The (1983)',\n",
       " 1232: 'Stalker (1979)',\n",
       " 1233: 'Boot, Das (Boat, The) (1981)',\n",
       " 1234: 'Sting, The (1973)',\n",
       " 1235: 'Harold and Maude (1971)',\n",
       " 1236: 'Trust (1990)',\n",
       " 1237: 'Seventh Seal, The (Sjunde inseglet, Det) (1957)',\n",
       " 1238: 'Local Hero (1983)',\n",
       " 1240: 'Terminator, The (1984)',\n",
       " 1241: 'Dead Alive (Braindead) (1992)',\n",
       " 1242: 'Glory (1989)',\n",
       " 1243: 'Rosencrantz and Guildenstern Are Dead (1990)',\n",
       " 1244: 'Manhattan (1979)',\n",
       " 1245: \"Miller's Crossing (1990)\",\n",
       " ...}"
      ]
     },
     "execution_count": 23,
     "metadata": {},
     "output_type": "execute_result"
    }
   ],
   "source": [
    "movie_names"
   ]
  },
  {
   "cell_type": "code",
   "execution_count": 24,
   "metadata": {},
   "outputs": [
    {
     "data": {
      "text/plain": [
       "array([  57,   49,   99, ...,  668, 4252, 4213])"
      ]
     },
     "execution_count": 24,
     "metadata": {},
     "output_type": "execute_result"
    }
   ],
   "source": [
    "topMovieIdx"
   ]
  },
  {
   "cell_type": "code",
   "execution_count": 29,
   "metadata": {},
   "outputs": [],
   "source": [
    "# This is fastai type\n",
    "??learn.models"
   ]
  },
  {
   "cell_type": "code",
   "execution_count": 28,
   "metadata": {},
   "outputs": [],
   "source": [
    "??learn.model"
   ]
  },
  {
   "cell_type": "code",
   "execution_count": 30,
   "metadata": {
    "hidden": true
   },
   "outputs": [
    {
     "data": {
      "text/plain": [
       "EmbeddingDotBias(\n",
       "  (u): Embedding(671, 50)\n",
       "  (i): Embedding(9066, 50)\n",
       "  (ub): Embedding(671, 1)\n",
       "  (ib): Embedding(9066, 1)\n",
       ")"
      ]
     },
     "execution_count": 30,
     "metadata": {},
     "output_type": "execute_result"
    }
   ],
   "source": [
    "# learn.model return the pytorch model file\n",
    "m=learn.model; m.cuda()"
   ]
  },
  {
   "cell_type": "markdown",
   "metadata": {
    "hidden": true
   },
   "source": [
    "First, we'll look at the movie bias term. Here, our input is the movie id (a single id), and the output is the movie bias (a single float)."
   ]
  },
  {
   "cell_type": "code",
   "execution_count": 31,
   "metadata": {
    "hidden": true
   },
   "outputs": [],
   "source": [
    "# Pytorch model or layer (such as m.ib below) can be called by using (), remember a layer can also be a model. Then it requires\n",
    "# variables as input not the tensors becuase it need to keep track of the derivatives, so we use V to transform the tensor to\n",
    "# be variable. \n",
    "# Variable is kind of wrapper on the tensor.\n",
    "# Pytorch 0.4 announced that it will get rid of the variables, and be able to use tensors to keep track of the derivatives\n",
    "#\n",
    "# to_np: m.ib(V(topMovieIdx)) is on GPU as below, we have a little shortcut in fastai because we very often want to turn variables\n",
    "# into tensors and move back to the CPU so we can play with them more easily. to_np is to numpy and it does all of those\n",
    "# things, and it works regardless of whether it is a tensor or a variable and regardless of whether it is on CPU or GPU, it\n",
    "# will end up giving you a numpy array from that. This is a super handy thing when you play around with pytorch. I try to use\n",
    "# numpy for everything except I explicitly need to run something on GPU or I need its derivatives in which cases I use pytorch,\n",
    "# because I found numpy is easier to work with and it's been longer time than pytorch and lots of things like python image\n",
    "# libraries like OpenCV, and lots of other stuffs like pandas\n",
    "#\n",
    "# if you want to use you model for infer in CPU not GPU, you can call m.cpu(), then uses m as usual. If the machine do not\n",
    "# have GPU, you do not need to do so.\n",
    "movie_bias = to_np(m.ib(V(topMovieIdx)))"
   ]
  },
  {
   "cell_type": "code",
   "execution_count": 32,
   "metadata": {},
   "outputs": [
    {
     "data": {
      "text/plain": [
       "Variable containing:\n",
       " 0.8075\n",
       " 0.8016\n",
       " 1.3011\n",
       "   ⋮    \n",
       " 0.2708\n",
       "-0.0586\n",
       " 0.2269\n",
       "[torch.cuda.FloatTensor of size 3000x1 (GPU 2)]"
      ]
     },
     "execution_count": 32,
     "metadata": {},
     "output_type": "execute_result"
    }
   ],
   "source": [
    "m.ib(V(topMovieIdx))"
   ]
  },
  {
   "cell_type": "code",
   "execution_count": 33,
   "metadata": {
    "hidden": true
   },
   "outputs": [
    {
     "data": {
      "text/plain": [
       "array([[ 0.80747],\n",
       "       [ 0.80161],\n",
       "       [ 1.30106],\n",
       "       ...,\n",
       "       [ 0.27079],\n",
       "       [-0.05861],\n",
       "       [ 0.22685]], dtype=float32)"
      ]
     },
     "execution_count": 33,
     "metadata": {},
     "output_type": "execute_result"
    }
   ],
   "source": [
    "movie_bias"
   ]
  },
  {
   "cell_type": "code",
   "execution_count": 34,
   "metadata": {
    "hidden": true
   },
   "outputs": [],
   "source": [
    "# zip is very important in python: it iterates the things in it and make a tuple of each.\n",
    "movie_ratings = [(b[0], movie_names[i]) for i,b in zip(topMovies,movie_bias)]"
   ]
  },
  {
   "cell_type": "markdown",
   "metadata": {
    "hidden": true
   },
   "source": [
    "Now we can look at the top and bottom rated movies. These ratings are corrected for different levels of reviewer sentiment, as well as different types of movies that different reviewers watch."
   ]
  },
  {
   "cell_type": "code",
   "execution_count": 35,
   "metadata": {
    "hidden": true
   },
   "outputs": [
    {
     "data": {
      "text/plain": [
       "[(-0.90008533, 'Battlefield Earth (2000)'),\n",
       " (-0.7443258, 'Batman & Robin (1997)'),\n",
       " (-0.74413127, 'Super Mario Bros. (1993)'),\n",
       " (-0.7438049, 'Speed 2: Cruise Control (1997)'),\n",
       " (-0.73753434, 'Wild Wild West (1999)'),\n",
       " (-0.6908002, 'Mighty Morphin Power Rangers: The Movie (1995)'),\n",
       " (-0.6672073, 'Godzilla (1998)'),\n",
       " (-0.6480359, 'Inspector Gadget (1999)'),\n",
       " (-0.6215282, 'Superman III (1983)'),\n",
       " (-0.6094794, 'Congo (1995)'),\n",
       " (-0.60052055, 'Hollow Man (2000)'),\n",
       " (-0.59275645, 'Anaconda (1997)'),\n",
       " (-0.58827657, 'Haunting, The (1999)'),\n",
       " (-0.5853191, 'Flintstones, The (1994)'),\n",
       " (-0.58104974, 'Little Nicky (2000)')]"
      ]
     },
     "execution_count": 35,
     "metadata": {},
     "output_type": "execute_result"
    }
   ],
   "source": [
    "# Here we use the bias value to interpret good or bad of the movie\n",
    "sorted(movie_ratings, key=lambda o: o[0])[:15]"
   ]
  },
  {
   "cell_type": "code",
   "execution_count": 36,
   "metadata": {
    "hidden": true
   },
   "outputs": [
    {
     "data": {
      "text/plain": [
       "[(-0.90008533, 'Battlefield Earth (2000)'),\n",
       " (-0.7443258, 'Batman & Robin (1997)'),\n",
       " (-0.74413127, 'Super Mario Bros. (1993)'),\n",
       " (-0.7438049, 'Speed 2: Cruise Control (1997)'),\n",
       " (-0.73753434, 'Wild Wild West (1999)'),\n",
       " (-0.6908002, 'Mighty Morphin Power Rangers: The Movie (1995)'),\n",
       " (-0.6672073, 'Godzilla (1998)'),\n",
       " (-0.6480359, 'Inspector Gadget (1999)'),\n",
       " (-0.6215282, 'Superman III (1983)'),\n",
       " (-0.6094794, 'Congo (1995)'),\n",
       " (-0.60052055, 'Hollow Man (2000)'),\n",
       " (-0.59275645, 'Anaconda (1997)'),\n",
       " (-0.58827657, 'Haunting, The (1999)'),\n",
       " (-0.5853191, 'Flintstones, The (1994)'),\n",
       " (-0.58104974, 'Little Nicky (2000)')]"
      ]
     },
     "execution_count": 36,
     "metadata": {},
     "output_type": "execute_result"
    }
   ],
   "source": [
    "sorted(movie_ratings, key=itemgetter(0))[:15]"
   ]
  },
  {
   "cell_type": "code",
   "execution_count": 37,
   "metadata": {
    "hidden": true
   },
   "outputs": [
    {
     "data": {
      "text/plain": [
       "[(1.3010588, 'Shawshank Redemption, The (1994)'),\n",
       " (1.1820658, 'Godfather, The (1972)'),\n",
       " (1.0487407, 'Usual Suspects, The (1995)'),\n",
       " (1.0103213, \"Schindler's List (1993)\"),\n",
       " (0.95127213, '12 Angry Men (1957)'),\n",
       " (0.9151196, 'Godfather: Part II, The (1974)'),\n",
       " (0.89286447, 'Matrix, The (1999)'),\n",
       " (0.870467, 'Princess Bride, The (1987)'),\n",
       " (0.8660062, 'Stand by Me (1986)'),\n",
       " (0.8396309, 'Maltese Falcon, The (1941)'),\n",
       " (0.82744914, 'Fargo (1996)'),\n",
       " (0.8230601, 'American Beauty (1999)'),\n",
       " (0.82237184, 'Run Lola Run (Lola rennt) (1998)'),\n",
       " (0.8223058, 'Cinema Paradiso (Nuovo cinema Paradiso) (1989)'),\n",
       " (0.8095184, 'Dark Knight, The (2008)')]"
      ]
     },
     "execution_count": 37,
     "metadata": {},
     "output_type": "execute_result"
    }
   ],
   "source": [
    "sorted(movie_ratings, key=lambda o: o[0], reverse=True)[:15]"
   ]
  },
  {
   "cell_type": "markdown",
   "metadata": {
    "heading_collapsed": true
   },
   "source": [
    "### Embedding interpretation"
   ]
  },
  {
   "cell_type": "markdown",
   "metadata": {
    "hidden": true
   },
   "source": [
    "We can now do the same thing for the embeddings."
   ]
  },
  {
   "cell_type": "code",
   "execution_count": 38,
   "metadata": {
    "hidden": true
   },
   "outputs": [
    {
     "data": {
      "text/plain": [
       "(3000, 50)"
      ]
     },
     "execution_count": 38,
     "metadata": {},
     "output_type": "execute_result"
    }
   ],
   "source": [
    "movie_emb = to_np(m.i(V(topMovieIdx)))\n",
    "movie_emb.shape"
   ]
  },
  {
   "cell_type": "markdown",
   "metadata": {
    "hidden": true
   },
   "source": [
    "Because it's hard to interpret 50 embeddings, we use [PCA](https://plot.ly/ipython-notebooks/principal-component-analysis/) to simplify them down to just 3 vectors. "
   ]
  },
  {
   "cell_type": "code",
   "execution_count": 39,
   "metadata": {
    "hidden": true
   },
   "outputs": [],
   "source": [
    "from sklearn.decomposition import PCA\n",
    "pca = PCA(n_components=3)\n",
    "movie_pca = pca.fit(movie_emb.T).components_"
   ]
  },
  {
   "cell_type": "code",
   "execution_count": 40,
   "metadata": {
    "hidden": true
   },
   "outputs": [
    {
     "data": {
      "text/plain": [
       "(3, 3000)"
      ]
     },
     "execution_count": 40,
     "metadata": {},
     "output_type": "execute_result"
    }
   ],
   "source": [
    "movie_pca.shape"
   ]
  },
  {
   "cell_type": "code",
   "execution_count": 41,
   "metadata": {
    "hidden": true
   },
   "outputs": [],
   "source": [
    "fac0 = movie_pca[0]\n",
    "movie_comp = [(f, movie_names[i]) for f,i in zip(fac0, topMovies)]"
   ]
  },
  {
   "cell_type": "markdown",
   "metadata": {
    "hidden": true
   },
   "source": [
    "Here's the 1st component. It seems to be 'easy watching' vs 'serious'."
   ]
  },
  {
   "cell_type": "code",
   "execution_count": 42,
   "metadata": {
    "hidden": true
   },
   "outputs": [
    {
     "data": {
      "text/plain": [
       "[(0.09130672, 'Pulp Fiction (1994)'),\n",
       " (0.07734469, 'Fargo (1996)'),\n",
       " (0.072593115, 'Godfather: Part II, The (1974)'),\n",
       " (0.0708463, '2001: A Space Odyssey (1968)'),\n",
       " (0.06681145, 'Taxi Driver (1976)'),\n",
       " (0.06571486, 'Being John Malkovich (1999)'),\n",
       " (0.06515371, 'Godfather, The (1972)'),\n",
       " (0.0632649, 'Casablanca (1942)'),\n",
       " (0.062035777, 'Chinatown (1974)'),\n",
       " (0.06165719, 'Full Metal Jacket (1987)')]"
      ]
     },
     "execution_count": 42,
     "metadata": {},
     "output_type": "execute_result"
    }
   ],
   "source": [
    "sorted(movie_comp, key=itemgetter(0), reverse=True)[:10]"
   ]
  },
  {
   "cell_type": "code",
   "execution_count": 43,
   "metadata": {
    "hidden": true
   },
   "outputs": [
    {
     "data": {
      "text/plain": [
       "[(-0.06974693, 'Armageddon (1998)'),\n",
       " (-0.057475626, 'Police Academy 4: Citizens on Patrol (1987)'),\n",
       " (-0.056946136, 'Miss Congeniality (2000)'),\n",
       " (-0.056227747, 'Lake Placid (1999)'),\n",
       " (-0.054673806, 'Con Air (1997)'),\n",
       " (-0.053418435, 'Independence Day (a.k.a. ID4) (1996)'),\n",
       " (-0.05200135, 'Rocky V (1990)'),\n",
       " (-0.05151775, 'Gone in 60 Seconds (2000)'),\n",
       " (-0.05049718, 'Ace Ventura: When Nature Calls (1995)'),\n",
       " (-0.050283723, 'Waterworld (1995)')]"
      ]
     },
     "execution_count": 43,
     "metadata": {},
     "output_type": "execute_result"
    }
   ],
   "source": [
    "sorted(movie_comp, key=itemgetter(0))[:10]"
   ]
  },
  {
   "cell_type": "code",
   "execution_count": 44,
   "metadata": {
    "hidden": true
   },
   "outputs": [],
   "source": [
    "fac1 = movie_pca[1]\n",
    "movie_comp = [(f, movie_names[i]) for f,i in zip(fac1, topMovies)]"
   ]
  },
  {
   "cell_type": "markdown",
   "metadata": {
    "hidden": true
   },
   "source": [
    "Here's the 2nd component. It seems to be 'CGI' vs 'dialog driven'."
   ]
  },
  {
   "cell_type": "code",
   "execution_count": 45,
   "metadata": {
    "hidden": true
   },
   "outputs": [
    {
     "data": {
      "text/plain": [
       "[(0.058454253, 'Tank Girl (1995)'),\n",
       " (0.05413364, 'Alien: Resurrection (1997)'),\n",
       " (0.053899553, 'City Lights (1931)'),\n",
       " (0.0456371, 'Doors, The (1991)'),\n",
       " (0.044084776, 'Catwoman (2004)'),\n",
       " (0.043949768, 'Bringing Up Baby (1938)'),\n",
       " (0.043100428, 'Halloween III: Season of the Witch (1982)'),\n",
       " (0.04261776, 'Manhattan (1979)'),\n",
       " (0.041325852, 'Nosferatu (Nosferatu, eine Symphonie des Grauens) (1922)'),\n",
       " (0.04100061, 'Stepford Wives, The (1975)')]"
      ]
     },
     "execution_count": 45,
     "metadata": {},
     "output_type": "execute_result"
    }
   ],
   "source": [
    "sorted(movie_comp, key=itemgetter(0), reverse=True)[:10]"
   ]
  },
  {
   "cell_type": "code",
   "execution_count": 46,
   "metadata": {
    "hidden": true
   },
   "outputs": [
    {
     "data": {
      "text/plain": [
       "[(-0.10401495, 'Star Wars: Episode VI - Return of the Jedi (1983)'),\n",
       " (-0.10325993,\n",
       "  'Raiders of the Lost Ark (Indiana Jones and the Raiders of the Lost Ark) (1981)'),\n",
       " (-0.09960155, 'Star Wars: Episode V - The Empire Strikes Back (1980)'),\n",
       " (-0.09848078, 'Spider-Man (2002)'),\n",
       " (-0.09503796, 'Forrest Gump (1994)'),\n",
       " (-0.09132749, 'Lord of the Rings: The Return of the King, The (2003)'),\n",
       " (-0.08876408, 'X-Men (2000)'),\n",
       " (-0.08614142, 'Star Wars: Episode IV - A New Hope (1977)'),\n",
       " (-0.080737025, 'Independence Day (a.k.a. ID4) (1996)'),\n",
       " (-0.080437034, 'Untouchables, The (1987)')]"
      ]
     },
     "execution_count": 46,
     "metadata": {},
     "output_type": "execute_result"
    }
   ],
   "source": [
    "sorted(movie_comp, key=itemgetter(0))[:10]"
   ]
  },
  {
   "cell_type": "markdown",
   "metadata": {
    "hidden": true
   },
   "source": [
    "We can draw a picture to see how various movies appear on the map of these components. This picture shows the first two components."
   ]
  },
  {
   "cell_type": "code",
   "execution_count": 47,
   "metadata": {
    "hidden": true,
    "scrolled": false
   },
   "outputs": [
    {
     "data": {
      "image/png": "[encoded data removed]",
      "text/plain": [
       "<Figure size 1080x1080 with 1 Axes>"
      ]
     },
     "metadata": {},
     "output_type": "display_data"
    }
   ],
   "source": [
    "idxs = np.random.choice(len(topMovies), 50, replace=False)\n",
    "X = fac0[idxs]\n",
    "Y = fac1[idxs]\n",
    "plt.figure(figsize=(15,15))\n",
    "plt.scatter(X, Y)\n",
    "for i, x, y in zip(topMovies[idxs], X, Y):\n",
    "    plt.text(x,y,movie_names[i], color=np.random.rand(3)*0.7, fontsize=11)\n",
    "plt.show()"
   ]
  },
  {
   "cell_type": "markdown",
   "metadata": {},
   "source": [
    "## Collab filtering from scratch"
   ]
  },
  {
   "cell_type": "markdown",
   "metadata": {
    "heading_collapsed": true
   },
   "source": [
    "### Dot product example in Pytorch"
   ]
  },
  {
   "cell_type": "code",
   "execution_count": 50,
   "metadata": {},
   "outputs": [],
   "source": [
    "??V"
   ]
  },
  {
   "cell_type": "code",
   "execution_count": 48,
   "metadata": {
    "hidden": true
   },
   "outputs": [
    {
     "data": {
      "text/plain": [
       "(\n",
       "  1  2\n",
       "  3  4\n",
       " [torch.cuda.FloatTensor of size 2x2 (GPU 2)], \n",
       "   2   2\n",
       "  10  10\n",
       " [torch.cuda.FloatTensor of size 2x2 (GPU 2)])"
      ]
     },
     "execution_count": 48,
     "metadata": {},
     "output_type": "execute_result"
    }
   ],
   "source": [
    "# Create a tensor in Pytorch with T\n",
    "a = T([[1.,2],[3,4]])\n",
    "b = T([[2.,2],[10,10]])\n",
    "a,b"
   ]
  },
  {
   "cell_type": "code",
   "execution_count": 51,
   "metadata": {
    "hidden": true
   },
   "outputs": [
    {
     "data": {
      "text/plain": [
       "\n",
       "  2   4\n",
       " 30  40\n",
       "[torch.cuda.FloatTensor of size 2x2 (GPU 2)]"
      ]
     },
     "execution_count": 51,
     "metadata": {},
     "output_type": "execute_result"
    }
   ],
   "source": [
    "# Any time you have a math operator between tensors in numpy or pytorch, it will do element-wise, assuming they have the same\n",
    "# shape. \n",
    "a*b"
   ]
  },
  {
   "cell_type": "code",
   "execution_count": 52,
   "metadata": {
    "hidden": true
   },
   "outputs": [
    {
     "data": {
      "text/plain": [
       "\n",
       "  6\n",
       " 70\n",
       "[torch.cuda.FloatTensor of size 2 (GPU 2)]"
      ]
     },
     "execution_count": 52,
     "metadata": {},
     "output_type": "execute_result"
    }
   ],
   "source": [
    "# sum along the 1st dim, so that's summing up the columns, in other word acrossing the row.\n",
    "# This is like the per row inner product of 2 matrices\n",
    "(a*b).sum(1)"
   ]
  },
  {
   "cell_type": "code",
   "execution_count": 53,
   "metadata": {
    "hidden": true
   },
   "outputs": [],
   "source": [
    "# Build our own custom neural net layer. More generically, we build the pytorch module. \n",
    "# Pytorch module is a very specific thing, you can use it as a layer in a NN, once you've created your pytorch module then you\n",
    "# can throw it into a NN. \n",
    "# Also you need to implement a specific method called \"forward\"\n",
    "class DotProduct(nn.Module):\n",
    "    def forward(self, u, m): return (u*m).sum(1)"
   ]
  },
  {
   "cell_type": "code",
   "execution_count": 54,
   "metadata": {
    "hidden": true
   },
   "outputs": [],
   "source": [
    "# And a module works by assuming we've already got/instantiate one object called model here then treat that like a function, \n",
    "# then you can pass in something in () and it will calculate it.\n",
    "# You have to create a Python class, this is a case that pytorch works well with Python.\n",
    "model=DotProduct()"
   ]
  },
  {
   "cell_type": "code",
   "execution_count": 55,
   "metadata": {
    "hidden": true
   },
   "outputs": [
    {
     "data": {
      "text/plain": [
       "\n",
       "  6\n",
       " 70\n",
       "[torch.cuda.FloatTensor of size 2 (GPU 2)]"
      ]
     },
     "execution_count": 55,
     "metadata": {},
     "output_type": "execute_result"
    }
   ],
   "source": [
    "model(a,b)"
   ]
  },
  {
   "cell_type": "markdown",
   "metadata": {
    "heading_collapsed": true
   },
   "source": [
    "### Dot product model"
   ]
  },
  {
   "cell_type": "code",
   "execution_count": 56,
   "metadata": {
    "hidden": true
   },
   "outputs": [],
   "source": [
    "# The 1st thing needs to be realized is that the userId and movieId may not be continues, for example they maybe start\n",
    "# at 1M and go to 1M 1000. So if we use those IDs directly to look up into an embedding matrix, we would have to create\n",
    "# an embedding matrix of size 1M 1000. The below lines of code are very handy in all kinds of machine learning.\n",
    "u_uniq = ratings.userId.unique()\n",
    "user2idx = {o:i for i,o in enumerate(u_uniq)}\n",
    "ratings.userId = ratings.userId.apply(lambda x: user2idx[x])\n",
    "\n",
    "m_uniq = ratings.movieId.unique()\n",
    "movie2idx = {o:i for i,o in enumerate(m_uniq)}\n",
    "ratings.movieId = ratings.movieId.apply(lambda x: movie2idx[x])\n",
    "\n",
    "n_users=int(ratings.userId.nunique())\n",
    "n_movies=int(ratings.movieId.nunique())"
   ]
  },
  {
   "cell_type": "code",
   "execution_count": 57,
   "metadata": {},
   "outputs": [
    {
     "name": "stdout",
     "output_type": "stream",
     "text": [
      "671\n",
      "9066\n"
     ]
    }
   ],
   "source": [
    "print(n_users)\n",
    "print(n_movies)"
   ]
  },
  {
   "cell_type": "code",
   "execution_count": 58,
   "metadata": {},
   "outputs": [
    {
     "data": {
      "text/html": [
       "<div>\n",
       "<style scoped>\n",
       "    .dataframe tbody tr th:only-of-type {\n",
       "        vertical-align: middle;\n",
       "    }\n",
       "\n",
       "    .dataframe tbody tr th {\n",
       "        vertical-align: top;\n",
       "    }\n",
       "\n",
       "    .dataframe thead th {\n",
       "        text-align: right;\n",
       "    }\n",
       "</style>\n",
       "<table border=\"1\" class=\"dataframe\">\n",
       "  <thead>\n",
       "    <tr style=\"text-align: right;\">\n",
       "      <th></th>\n",
       "      <th>userId</th>\n",
       "      <th>movieId</th>\n",
       "      <th>rating</th>\n",
       "      <th>timestamp</th>\n",
       "    </tr>\n",
       "  </thead>\n",
       "  <tbody>\n",
       "    <tr>\n",
       "      <th>0</th>\n",
       "      <td>0</td>\n",
       "      <td>0</td>\n",
       "      <td>2.5</td>\n",
       "      <td>1260759144</td>\n",
       "    </tr>\n",
       "    <tr>\n",
       "      <th>1</th>\n",
       "      <td>0</td>\n",
       "      <td>1</td>\n",
       "      <td>3.0</td>\n",
       "      <td>1260759179</td>\n",
       "    </tr>\n",
       "    <tr>\n",
       "      <th>2</th>\n",
       "      <td>0</td>\n",
       "      <td>2</td>\n",
       "      <td>3.0</td>\n",
       "      <td>1260759182</td>\n",
       "    </tr>\n",
       "    <tr>\n",
       "      <th>3</th>\n",
       "      <td>0</td>\n",
       "      <td>3</td>\n",
       "      <td>2.0</td>\n",
       "      <td>1260759185</td>\n",
       "    </tr>\n",
       "    <tr>\n",
       "      <th>4</th>\n",
       "      <td>0</td>\n",
       "      <td>4</td>\n",
       "      <td>4.0</td>\n",
       "      <td>1260759205</td>\n",
       "    </tr>\n",
       "    <tr>\n",
       "      <th>5</th>\n",
       "      <td>0</td>\n",
       "      <td>5</td>\n",
       "      <td>2.0</td>\n",
       "      <td>1260759151</td>\n",
       "    </tr>\n",
       "    <tr>\n",
       "      <th>6</th>\n",
       "      <td>0</td>\n",
       "      <td>6</td>\n",
       "      <td>2.0</td>\n",
       "      <td>1260759187</td>\n",
       "    </tr>\n",
       "    <tr>\n",
       "      <th>7</th>\n",
       "      <td>0</td>\n",
       "      <td>7</td>\n",
       "      <td>2.0</td>\n",
       "      <td>1260759148</td>\n",
       "    </tr>\n",
       "    <tr>\n",
       "      <th>8</th>\n",
       "      <td>0</td>\n",
       "      <td>8</td>\n",
       "      <td>3.5</td>\n",
       "      <td>1260759125</td>\n",
       "    </tr>\n",
       "    <tr>\n",
       "      <th>9</th>\n",
       "      <td>0</td>\n",
       "      <td>9</td>\n",
       "      <td>2.0</td>\n",
       "      <td>1260759131</td>\n",
       "    </tr>\n",
       "    <tr>\n",
       "      <th>10</th>\n",
       "      <td>0</td>\n",
       "      <td>10</td>\n",
       "      <td>2.5</td>\n",
       "      <td>1260759135</td>\n",
       "    </tr>\n",
       "    <tr>\n",
       "      <th>11</th>\n",
       "      <td>0</td>\n",
       "      <td>11</td>\n",
       "      <td>1.0</td>\n",
       "      <td>1260759203</td>\n",
       "    </tr>\n",
       "    <tr>\n",
       "      <th>12</th>\n",
       "      <td>0</td>\n",
       "      <td>12</td>\n",
       "      <td>4.0</td>\n",
       "      <td>1260759191</td>\n",
       "    </tr>\n",
       "    <tr>\n",
       "      <th>13</th>\n",
       "      <td>0</td>\n",
       "      <td>13</td>\n",
       "      <td>4.0</td>\n",
       "      <td>1260759139</td>\n",
       "    </tr>\n",
       "    <tr>\n",
       "      <th>14</th>\n",
       "      <td>0</td>\n",
       "      <td>14</td>\n",
       "      <td>3.0</td>\n",
       "      <td>1260759194</td>\n",
       "    </tr>\n",
       "    <tr>\n",
       "      <th>15</th>\n",
       "      <td>0</td>\n",
       "      <td>15</td>\n",
       "      <td>2.0</td>\n",
       "      <td>1260759198</td>\n",
       "    </tr>\n",
       "    <tr>\n",
       "      <th>16</th>\n",
       "      <td>0</td>\n",
       "      <td>16</td>\n",
       "      <td>2.0</td>\n",
       "      <td>1260759108</td>\n",
       "    </tr>\n",
       "    <tr>\n",
       "      <th>17</th>\n",
       "      <td>0</td>\n",
       "      <td>17</td>\n",
       "      <td>2.5</td>\n",
       "      <td>1260759113</td>\n",
       "    </tr>\n",
       "    <tr>\n",
       "      <th>18</th>\n",
       "      <td>0</td>\n",
       "      <td>18</td>\n",
       "      <td>1.0</td>\n",
       "      <td>1260759200</td>\n",
       "    </tr>\n",
       "    <tr>\n",
       "      <th>19</th>\n",
       "      <td>0</td>\n",
       "      <td>19</td>\n",
       "      <td>3.0</td>\n",
       "      <td>1260759117</td>\n",
       "    </tr>\n",
       "    <tr>\n",
       "      <th>20</th>\n",
       "      <td>1</td>\n",
       "      <td>20</td>\n",
       "      <td>4.0</td>\n",
       "      <td>835355493</td>\n",
       "    </tr>\n",
       "    <tr>\n",
       "      <th>21</th>\n",
       "      <td>1</td>\n",
       "      <td>21</td>\n",
       "      <td>5.0</td>\n",
       "      <td>835355681</td>\n",
       "    </tr>\n",
       "    <tr>\n",
       "      <th>22</th>\n",
       "      <td>1</td>\n",
       "      <td>22</td>\n",
       "      <td>5.0</td>\n",
       "      <td>835355604</td>\n",
       "    </tr>\n",
       "    <tr>\n",
       "      <th>23</th>\n",
       "      <td>1</td>\n",
       "      <td>23</td>\n",
       "      <td>4.0</td>\n",
       "      <td>835355552</td>\n",
       "    </tr>\n",
       "    <tr>\n",
       "      <th>24</th>\n",
       "      <td>1</td>\n",
       "      <td>24</td>\n",
       "      <td>4.0</td>\n",
       "      <td>835355586</td>\n",
       "    </tr>\n",
       "    <tr>\n",
       "      <th>25</th>\n",
       "      <td>1</td>\n",
       "      <td>25</td>\n",
       "      <td>3.0</td>\n",
       "      <td>835356031</td>\n",
       "    </tr>\n",
       "    <tr>\n",
       "      <th>26</th>\n",
       "      <td>1</td>\n",
       "      <td>26</td>\n",
       "      <td>3.0</td>\n",
       "      <td>835355749</td>\n",
       "    </tr>\n",
       "    <tr>\n",
       "      <th>27</th>\n",
       "      <td>1</td>\n",
       "      <td>27</td>\n",
       "      <td>4.0</td>\n",
       "      <td>835355532</td>\n",
       "    </tr>\n",
       "    <tr>\n",
       "      <th>28</th>\n",
       "      <td>1</td>\n",
       "      <td>28</td>\n",
       "      <td>3.0</td>\n",
       "      <td>835356016</td>\n",
       "    </tr>\n",
       "    <tr>\n",
       "      <th>29</th>\n",
       "      <td>1</td>\n",
       "      <td>29</td>\n",
       "      <td>5.0</td>\n",
       "      <td>835355395</td>\n",
       "    </tr>\n",
       "    <tr>\n",
       "      <th>...</th>\n",
       "      <td>...</td>\n",
       "      <td>...</td>\n",
       "      <td>...</td>\n",
       "      <td>...</td>\n",
       "    </tr>\n",
       "    <tr>\n",
       "      <th>99974</th>\n",
       "      <td>670</td>\n",
       "      <td>473</td>\n",
       "      <td>4.5</td>\n",
       "      <td>1064245493</td>\n",
       "    </tr>\n",
       "    <tr>\n",
       "      <th>99975</th>\n",
       "      <td>670</td>\n",
       "      <td>354</td>\n",
       "      <td>5.0</td>\n",
       "      <td>1064245548</td>\n",
       "    </tr>\n",
       "    <tr>\n",
       "      <th>99976</th>\n",
       "      <td>670</td>\n",
       "      <td>355</td>\n",
       "      <td>3.5</td>\n",
       "      <td>1065111985</td>\n",
       "    </tr>\n",
       "    <tr>\n",
       "      <th>99977</th>\n",
       "      <td>670</td>\n",
       "      <td>5577</td>\n",
       "      <td>4.0</td>\n",
       "      <td>1065111973</td>\n",
       "    </tr>\n",
       "    <tr>\n",
       "      <th>99978</th>\n",
       "      <td>670</td>\n",
       "      <td>477</td>\n",
       "      <td>5.0</td>\n",
       "      <td>1064245488</td>\n",
       "    </tr>\n",
       "    <tr>\n",
       "      <th>99979</th>\n",
       "      <td>670</td>\n",
       "      <td>478</td>\n",
       "      <td>5.0</td>\n",
       "      <td>1065111996</td>\n",
       "    </tr>\n",
       "    <tr>\n",
       "      <th>99980</th>\n",
       "      <td>670</td>\n",
       "      <td>358</td>\n",
       "      <td>4.5</td>\n",
       "      <td>1065111855</td>\n",
       "    </tr>\n",
       "    <tr>\n",
       "      <th>99981</th>\n",
       "      <td>670</td>\n",
       "      <td>479</td>\n",
       "      <td>4.5</td>\n",
       "      <td>1064245471</td>\n",
       "    </tr>\n",
       "    <tr>\n",
       "      <th>99982</th>\n",
       "      <td>670</td>\n",
       "      <td>480</td>\n",
       "      <td>5.0</td>\n",
       "      <td>1064245483</td>\n",
       "    </tr>\n",
       "    <tr>\n",
       "      <th>99983</th>\n",
       "      <td>670</td>\n",
       "      <td>359</td>\n",
       "      <td>4.0</td>\n",
       "      <td>1064891537</td>\n",
       "    </tr>\n",
       "    <tr>\n",
       "      <th>99984</th>\n",
       "      <td>670</td>\n",
       "      <td>1225</td>\n",
       "      <td>2.0</td>\n",
       "      <td>1066793004</td>\n",
       "    </tr>\n",
       "    <tr>\n",
       "      <th>99985</th>\n",
       "      <td>670</td>\n",
       "      <td>1240</td>\n",
       "      <td>2.0</td>\n",
       "      <td>1065111990</td>\n",
       "    </tr>\n",
       "    <tr>\n",
       "      <th>99986</th>\n",
       "      <td>670</td>\n",
       "      <td>361</td>\n",
       "      <td>3.0</td>\n",
       "      <td>1065112004</td>\n",
       "    </tr>\n",
       "    <tr>\n",
       "      <th>99987</th>\n",
       "      <td>670</td>\n",
       "      <td>126</td>\n",
       "      <td>4.0</td>\n",
       "      <td>1065111863</td>\n",
       "    </tr>\n",
       "    <tr>\n",
       "      <th>99988</th>\n",
       "      <td>670</td>\n",
       "      <td>1260</td>\n",
       "      <td>4.0</td>\n",
       "      <td>1064245557</td>\n",
       "    </tr>\n",
       "    <tr>\n",
       "      <th>99989</th>\n",
       "      <td>670</td>\n",
       "      <td>483</td>\n",
       "      <td>4.5</td>\n",
       "      <td>1064891627</td>\n",
       "    </tr>\n",
       "    <tr>\n",
       "      <th>99990</th>\n",
       "      <td>670</td>\n",
       "      <td>362</td>\n",
       "      <td>3.0</td>\n",
       "      <td>1064891549</td>\n",
       "    </tr>\n",
       "    <tr>\n",
       "      <th>99991</th>\n",
       "      <td>670</td>\n",
       "      <td>127</td>\n",
       "      <td>4.0</td>\n",
       "      <td>1063502711</td>\n",
       "    </tr>\n",
       "    <tr>\n",
       "      <th>99992</th>\n",
       "      <td>670</td>\n",
       "      <td>364</td>\n",
       "      <td>4.0</td>\n",
       "      <td>1065111963</td>\n",
       "    </tr>\n",
       "    <tr>\n",
       "      <th>99993</th>\n",
       "      <td>670</td>\n",
       "      <td>1299</td>\n",
       "      <td>3.5</td>\n",
       "      <td>1064245507</td>\n",
       "    </tr>\n",
       "    <tr>\n",
       "      <th>99994</th>\n",
       "      <td>670</td>\n",
       "      <td>412</td>\n",
       "      <td>5.0</td>\n",
       "      <td>1063502716</td>\n",
       "    </tr>\n",
       "    <tr>\n",
       "      <th>99995</th>\n",
       "      <td>670</td>\n",
       "      <td>486</td>\n",
       "      <td>4.0</td>\n",
       "      <td>1064890625</td>\n",
       "    </tr>\n",
       "    <tr>\n",
       "      <th>99996</th>\n",
       "      <td>670</td>\n",
       "      <td>1308</td>\n",
       "      <td>4.5</td>\n",
       "      <td>1064245387</td>\n",
       "    </tr>\n",
       "    <tr>\n",
       "      <th>99997</th>\n",
       "      <td>670</td>\n",
       "      <td>365</td>\n",
       "      <td>4.0</td>\n",
       "      <td>1066793014</td>\n",
       "    </tr>\n",
       "    <tr>\n",
       "      <th>99998</th>\n",
       "      <td>670</td>\n",
       "      <td>2930</td>\n",
       "      <td>2.5</td>\n",
       "      <td>1065149436</td>\n",
       "    </tr>\n",
       "    <tr>\n",
       "      <th>99999</th>\n",
       "      <td>670</td>\n",
       "      <td>7005</td>\n",
       "      <td>2.5</td>\n",
       "      <td>1065579370</td>\n",
       "    </tr>\n",
       "    <tr>\n",
       "      <th>100000</th>\n",
       "      <td>670</td>\n",
       "      <td>4771</td>\n",
       "      <td>4.0</td>\n",
       "      <td>1065149201</td>\n",
       "    </tr>\n",
       "    <tr>\n",
       "      <th>100001</th>\n",
       "      <td>670</td>\n",
       "      <td>1329</td>\n",
       "      <td>4.0</td>\n",
       "      <td>1070940363</td>\n",
       "    </tr>\n",
       "    <tr>\n",
       "      <th>100002</th>\n",
       "      <td>670</td>\n",
       "      <td>1331</td>\n",
       "      <td>2.5</td>\n",
       "      <td>1070979663</td>\n",
       "    </tr>\n",
       "    <tr>\n",
       "      <th>100003</th>\n",
       "      <td>670</td>\n",
       "      <td>2946</td>\n",
       "      <td>3.5</td>\n",
       "      <td>1074784724</td>\n",
       "    </tr>\n",
       "  </tbody>\n",
       "</table>\n",
       "<p>100004 rows × 4 columns</p>\n",
       "</div>"
      ],
      "text/plain": [
       "        userId  movieId  rating   timestamp\n",
       "0            0        0     2.5  1260759144\n",
       "1            0        1     3.0  1260759179\n",
       "2            0        2     3.0  1260759182\n",
       "3            0        3     2.0  1260759185\n",
       "4            0        4     4.0  1260759205\n",
       "5            0        5     2.0  1260759151\n",
       "6            0        6     2.0  1260759187\n",
       "7            0        7     2.0  1260759148\n",
       "8            0        8     3.5  1260759125\n",
       "9            0        9     2.0  1260759131\n",
       "10           0       10     2.5  1260759135\n",
       "11           0       11     1.0  1260759203\n",
       "12           0       12     4.0  1260759191\n",
       "13           0       13     4.0  1260759139\n",
       "14           0       14     3.0  1260759194\n",
       "15           0       15     2.0  1260759198\n",
       "16           0       16     2.0  1260759108\n",
       "17           0       17     2.5  1260759113\n",
       "18           0       18     1.0  1260759200\n",
       "19           0       19     3.0  1260759117\n",
       "20           1       20     4.0   835355493\n",
       "21           1       21     5.0   835355681\n",
       "22           1       22     5.0   835355604\n",
       "23           1       23     4.0   835355552\n",
       "24           1       24     4.0   835355586\n",
       "25           1       25     3.0   835356031\n",
       "26           1       26     3.0   835355749\n",
       "27           1       27     4.0   835355532\n",
       "28           1       28     3.0   835356016\n",
       "29           1       29     5.0   835355395\n",
       "...        ...      ...     ...         ...\n",
       "99974      670      473     4.5  1064245493\n",
       "99975      670      354     5.0  1064245548\n",
       "99976      670      355     3.5  1065111985\n",
       "99977      670     5577     4.0  1065111973\n",
       "99978      670      477     5.0  1064245488\n",
       "99979      670      478     5.0  1065111996\n",
       "99980      670      358     4.5  1065111855\n",
       "99981      670      479     4.5  1064245471\n",
       "99982      670      480     5.0  1064245483\n",
       "99983      670      359     4.0  1064891537\n",
       "99984      670     1225     2.0  1066793004\n",
       "99985      670     1240     2.0  1065111990\n",
       "99986      670      361     3.0  1065112004\n",
       "99987      670      126     4.0  1065111863\n",
       "99988      670     1260     4.0  1064245557\n",
       "99989      670      483     4.5  1064891627\n",
       "99990      670      362     3.0  1064891549\n",
       "99991      670      127     4.0  1063502711\n",
       "99992      670      364     4.0  1065111963\n",
       "99993      670     1299     3.5  1064245507\n",
       "99994      670      412     5.0  1063502716\n",
       "99995      670      486     4.0  1064890625\n",
       "99996      670     1308     4.5  1064245387\n",
       "99997      670      365     4.0  1066793014\n",
       "99998      670     2930     2.5  1065149436\n",
       "99999      670     7005     2.5  1065579370\n",
       "100000     670     4771     4.0  1065149201\n",
       "100001     670     1329     4.0  1070940363\n",
       "100002     670     1331     2.5  1070979663\n",
       "100003     670     2946     3.5  1074784724\n",
       "\n",
       "[100004 rows x 4 columns]"
      ]
     },
     "execution_count": 58,
     "metadata": {},
     "output_type": "execute_result"
    }
   ],
   "source": [
    "ratings"
   ]
  },
  {
   "cell_type": "code",
   "execution_count": 59,
   "metadata": {
    "hidden": true
   },
   "outputs": [],
   "source": [
    "class EmbeddingDot(nn.Module): # inherit from nn.Module\n",
    "    def __init__(self, n_users, n_movies):\n",
    "        super().__init__() # This you will got lots of cool stuffs from nn.Module by inheriting\n",
    "        self.u = nn.Embedding(n_users, n_factors) # (#row, #column)\n",
    "        self.m = nn.Embedding(n_movies, n_factors)\n",
    "        self.u.weight.data.uniform_(0,0.05) # According to Kaiming He init, 0.05~=sqrt(2/n_factor) is the std, 0 is the bias\n",
    "        self.m.weight.data.uniform_(0,0.05)\n",
    "        \n",
    "    def forward(self, cats, conts): # cat->categorical, conts->continuous, leverage ColumnarModelData as rossman and it will pass the 2 variables\n",
    "        users,movies = cats[:,0],cats[:,1] # Return a mini-batch\n",
    "        u,m = self.u(users),self.m(movies) # Look up into the embedding matrices here like an array lookup, do it a whole mini batch at a time\n",
    "        return (u*m).sum(1)"
   ]
  },
  {
   "cell_type": "code",
   "execution_count": 60,
   "metadata": {
    "hidden": true
   },
   "outputs": [],
   "source": [
    "x = ratings.drop(['rating', 'timestamp'],axis=1)\n",
    "y = ratings['rating'].astype(np.float32)"
   ]
  },
  {
   "cell_type": "code",
   "execution_count": 61,
   "metadata": {
    "scrolled": true
   },
   "outputs": [
    {
     "data": {
      "text/html": [
       "<div>\n",
       "<style scoped>\n",
       "    .dataframe tbody tr th:only-of-type {\n",
       "        vertical-align: middle;\n",
       "    }\n",
       "\n",
       "    .dataframe tbody tr th {\n",
       "        vertical-align: top;\n",
       "    }\n",
       "\n",
       "    .dataframe thead th {\n",
       "        text-align: right;\n",
       "    }\n",
       "</style>\n",
       "<table border=\"1\" class=\"dataframe\">\n",
       "  <thead>\n",
       "    <tr style=\"text-align: right;\">\n",
       "      <th></th>\n",
       "      <th>userId</th>\n",
       "      <th>movieId</th>\n",
       "    </tr>\n",
       "  </thead>\n",
       "  <tbody>\n",
       "    <tr>\n",
       "      <th>0</th>\n",
       "      <td>0</td>\n",
       "      <td>0</td>\n",
       "    </tr>\n",
       "    <tr>\n",
       "      <th>1</th>\n",
       "      <td>0</td>\n",
       "      <td>1</td>\n",
       "    </tr>\n",
       "    <tr>\n",
       "      <th>2</th>\n",
       "      <td>0</td>\n",
       "      <td>2</td>\n",
       "    </tr>\n",
       "    <tr>\n",
       "      <th>3</th>\n",
       "      <td>0</td>\n",
       "      <td>3</td>\n",
       "    </tr>\n",
       "    <tr>\n",
       "      <th>4</th>\n",
       "      <td>0</td>\n",
       "      <td>4</td>\n",
       "    </tr>\n",
       "    <tr>\n",
       "      <th>5</th>\n",
       "      <td>0</td>\n",
       "      <td>5</td>\n",
       "    </tr>\n",
       "    <tr>\n",
       "      <th>6</th>\n",
       "      <td>0</td>\n",
       "      <td>6</td>\n",
       "    </tr>\n",
       "    <tr>\n",
       "      <th>7</th>\n",
       "      <td>0</td>\n",
       "      <td>7</td>\n",
       "    </tr>\n",
       "    <tr>\n",
       "      <th>8</th>\n",
       "      <td>0</td>\n",
       "      <td>8</td>\n",
       "    </tr>\n",
       "    <tr>\n",
       "      <th>9</th>\n",
       "      <td>0</td>\n",
       "      <td>9</td>\n",
       "    </tr>\n",
       "    <tr>\n",
       "      <th>10</th>\n",
       "      <td>0</td>\n",
       "      <td>10</td>\n",
       "    </tr>\n",
       "    <tr>\n",
       "      <th>11</th>\n",
       "      <td>0</td>\n",
       "      <td>11</td>\n",
       "    </tr>\n",
       "    <tr>\n",
       "      <th>12</th>\n",
       "      <td>0</td>\n",
       "      <td>12</td>\n",
       "    </tr>\n",
       "    <tr>\n",
       "      <th>13</th>\n",
       "      <td>0</td>\n",
       "      <td>13</td>\n",
       "    </tr>\n",
       "    <tr>\n",
       "      <th>14</th>\n",
       "      <td>0</td>\n",
       "      <td>14</td>\n",
       "    </tr>\n",
       "    <tr>\n",
       "      <th>15</th>\n",
       "      <td>0</td>\n",
       "      <td>15</td>\n",
       "    </tr>\n",
       "    <tr>\n",
       "      <th>16</th>\n",
       "      <td>0</td>\n",
       "      <td>16</td>\n",
       "    </tr>\n",
       "    <tr>\n",
       "      <th>17</th>\n",
       "      <td>0</td>\n",
       "      <td>17</td>\n",
       "    </tr>\n",
       "    <tr>\n",
       "      <th>18</th>\n",
       "      <td>0</td>\n",
       "      <td>18</td>\n",
       "    </tr>\n",
       "    <tr>\n",
       "      <th>19</th>\n",
       "      <td>0</td>\n",
       "      <td>19</td>\n",
       "    </tr>\n",
       "    <tr>\n",
       "      <th>20</th>\n",
       "      <td>1</td>\n",
       "      <td>20</td>\n",
       "    </tr>\n",
       "    <tr>\n",
       "      <th>21</th>\n",
       "      <td>1</td>\n",
       "      <td>21</td>\n",
       "    </tr>\n",
       "    <tr>\n",
       "      <th>22</th>\n",
       "      <td>1</td>\n",
       "      <td>22</td>\n",
       "    </tr>\n",
       "    <tr>\n",
       "      <th>23</th>\n",
       "      <td>1</td>\n",
       "      <td>23</td>\n",
       "    </tr>\n",
       "    <tr>\n",
       "      <th>24</th>\n",
       "      <td>1</td>\n",
       "      <td>24</td>\n",
       "    </tr>\n",
       "    <tr>\n",
       "      <th>25</th>\n",
       "      <td>1</td>\n",
       "      <td>25</td>\n",
       "    </tr>\n",
       "    <tr>\n",
       "      <th>26</th>\n",
       "      <td>1</td>\n",
       "      <td>26</td>\n",
       "    </tr>\n",
       "    <tr>\n",
       "      <th>27</th>\n",
       "      <td>1</td>\n",
       "      <td>27</td>\n",
       "    </tr>\n",
       "    <tr>\n",
       "      <th>28</th>\n",
       "      <td>1</td>\n",
       "      <td>28</td>\n",
       "    </tr>\n",
       "    <tr>\n",
       "      <th>29</th>\n",
       "      <td>1</td>\n",
       "      <td>29</td>\n",
       "    </tr>\n",
       "    <tr>\n",
       "      <th>...</th>\n",
       "      <td>...</td>\n",
       "      <td>...</td>\n",
       "    </tr>\n",
       "    <tr>\n",
       "      <th>99974</th>\n",
       "      <td>670</td>\n",
       "      <td>473</td>\n",
       "    </tr>\n",
       "    <tr>\n",
       "      <th>99975</th>\n",
       "      <td>670</td>\n",
       "      <td>354</td>\n",
       "    </tr>\n",
       "    <tr>\n",
       "      <th>99976</th>\n",
       "      <td>670</td>\n",
       "      <td>355</td>\n",
       "    </tr>\n",
       "    <tr>\n",
       "      <th>99977</th>\n",
       "      <td>670</td>\n",
       "      <td>5577</td>\n",
       "    </tr>\n",
       "    <tr>\n",
       "      <th>99978</th>\n",
       "      <td>670</td>\n",
       "      <td>477</td>\n",
       "    </tr>\n",
       "    <tr>\n",
       "      <th>99979</th>\n",
       "      <td>670</td>\n",
       "      <td>478</td>\n",
       "    </tr>\n",
       "    <tr>\n",
       "      <th>99980</th>\n",
       "      <td>670</td>\n",
       "      <td>358</td>\n",
       "    </tr>\n",
       "    <tr>\n",
       "      <th>99981</th>\n",
       "      <td>670</td>\n",
       "      <td>479</td>\n",
       "    </tr>\n",
       "    <tr>\n",
       "      <th>99982</th>\n",
       "      <td>670</td>\n",
       "      <td>480</td>\n",
       "    </tr>\n",
       "    <tr>\n",
       "      <th>99983</th>\n",
       "      <td>670</td>\n",
       "      <td>359</td>\n",
       "    </tr>\n",
       "    <tr>\n",
       "      <th>99984</th>\n",
       "      <td>670</td>\n",
       "      <td>1225</td>\n",
       "    </tr>\n",
       "    <tr>\n",
       "      <th>99985</th>\n",
       "      <td>670</td>\n",
       "      <td>1240</td>\n",
       "    </tr>\n",
       "    <tr>\n",
       "      <th>99986</th>\n",
       "      <td>670</td>\n",
       "      <td>361</td>\n",
       "    </tr>\n",
       "    <tr>\n",
       "      <th>99987</th>\n",
       "      <td>670</td>\n",
       "      <td>126</td>\n",
       "    </tr>\n",
       "    <tr>\n",
       "      <th>99988</th>\n",
       "      <td>670</td>\n",
       "      <td>1260</td>\n",
       "    </tr>\n",
       "    <tr>\n",
       "      <th>99989</th>\n",
       "      <td>670</td>\n",
       "      <td>483</td>\n",
       "    </tr>\n",
       "    <tr>\n",
       "      <th>99990</th>\n",
       "      <td>670</td>\n",
       "      <td>362</td>\n",
       "    </tr>\n",
       "    <tr>\n",
       "      <th>99991</th>\n",
       "      <td>670</td>\n",
       "      <td>127</td>\n",
       "    </tr>\n",
       "    <tr>\n",
       "      <th>99992</th>\n",
       "      <td>670</td>\n",
       "      <td>364</td>\n",
       "    </tr>\n",
       "    <tr>\n",
       "      <th>99993</th>\n",
       "      <td>670</td>\n",
       "      <td>1299</td>\n",
       "    </tr>\n",
       "    <tr>\n",
       "      <th>99994</th>\n",
       "      <td>670</td>\n",
       "      <td>412</td>\n",
       "    </tr>\n",
       "    <tr>\n",
       "      <th>99995</th>\n",
       "      <td>670</td>\n",
       "      <td>486</td>\n",
       "    </tr>\n",
       "    <tr>\n",
       "      <th>99996</th>\n",
       "      <td>670</td>\n",
       "      <td>1308</td>\n",
       "    </tr>\n",
       "    <tr>\n",
       "      <th>99997</th>\n",
       "      <td>670</td>\n",
       "      <td>365</td>\n",
       "    </tr>\n",
       "    <tr>\n",
       "      <th>99998</th>\n",
       "      <td>670</td>\n",
       "      <td>2930</td>\n",
       "    </tr>\n",
       "    <tr>\n",
       "      <th>99999</th>\n",
       "      <td>670</td>\n",
       "      <td>7005</td>\n",
       "    </tr>\n",
       "    <tr>\n",
       "      <th>100000</th>\n",
       "      <td>670</td>\n",
       "      <td>4771</td>\n",
       "    </tr>\n",
       "    <tr>\n",
       "      <th>100001</th>\n",
       "      <td>670</td>\n",
       "      <td>1329</td>\n",
       "    </tr>\n",
       "    <tr>\n",
       "      <th>100002</th>\n",
       "      <td>670</td>\n",
       "      <td>1331</td>\n",
       "    </tr>\n",
       "    <tr>\n",
       "      <th>100003</th>\n",
       "      <td>670</td>\n",
       "      <td>2946</td>\n",
       "    </tr>\n",
       "  </tbody>\n",
       "</table>\n",
       "<p>100004 rows × 2 columns</p>\n",
       "</div>"
      ],
      "text/plain": [
       "        userId  movieId\n",
       "0            0        0\n",
       "1            0        1\n",
       "2            0        2\n",
       "3            0        3\n",
       "4            0        4\n",
       "5            0        5\n",
       "6            0        6\n",
       "7            0        7\n",
       "8            0        8\n",
       "9            0        9\n",
       "10           0       10\n",
       "11           0       11\n",
       "12           0       12\n",
       "13           0       13\n",
       "14           0       14\n",
       "15           0       15\n",
       "16           0       16\n",
       "17           0       17\n",
       "18           0       18\n",
       "19           0       19\n",
       "20           1       20\n",
       "21           1       21\n",
       "22           1       22\n",
       "23           1       23\n",
       "24           1       24\n",
       "25           1       25\n",
       "26           1       26\n",
       "27           1       27\n",
       "28           1       28\n",
       "29           1       29\n",
       "...        ...      ...\n",
       "99974      670      473\n",
       "99975      670      354\n",
       "99976      670      355\n",
       "99977      670     5577\n",
       "99978      670      477\n",
       "99979      670      478\n",
       "99980      670      358\n",
       "99981      670      479\n",
       "99982      670      480\n",
       "99983      670      359\n",
       "99984      670     1225\n",
       "99985      670     1240\n",
       "99986      670      361\n",
       "99987      670      126\n",
       "99988      670     1260\n",
       "99989      670      483\n",
       "99990      670      362\n",
       "99991      670      127\n",
       "99992      670      364\n",
       "99993      670     1299\n",
       "99994      670      412\n",
       "99995      670      486\n",
       "99996      670     1308\n",
       "99997      670      365\n",
       "99998      670     2930\n",
       "99999      670     7005\n",
       "100000     670     4771\n",
       "100001     670     1329\n",
       "100002     670     1331\n",
       "100003     670     2946\n",
       "\n",
       "[100004 rows x 2 columns]"
      ]
     },
     "execution_count": 61,
     "metadata": {},
     "output_type": "execute_result"
    }
   ],
   "source": [
    "x"
   ]
  },
  {
   "cell_type": "code",
   "execution_count": 65,
   "metadata": {
    "scrolled": true
   },
   "outputs": [
    {
     "data": {
      "text/plain": [
       "0         2.5\n",
       "1         3.0\n",
       "2         3.0\n",
       "3         2.0\n",
       "4         4.0\n",
       "5         2.0\n",
       "6         2.0\n",
       "7         2.0\n",
       "8         3.5\n",
       "9         2.0\n",
       "10        2.5\n",
       "11        1.0\n",
       "12        4.0\n",
       "13        4.0\n",
       "14        3.0\n",
       "15        2.0\n",
       "16        2.0\n",
       "17        2.5\n",
       "18        1.0\n",
       "19        3.0\n",
       "20        4.0\n",
       "21        5.0\n",
       "22        5.0\n",
       "23        4.0\n",
       "24        4.0\n",
       "25        3.0\n",
       "26        3.0\n",
       "27        4.0\n",
       "28        3.0\n",
       "29        5.0\n",
       "         ... \n",
       "99974     4.5\n",
       "99975     5.0\n",
       "99976     3.5\n",
       "99977     4.0\n",
       "99978     5.0\n",
       "99979     5.0\n",
       "99980     4.5\n",
       "99981     4.5\n",
       "99982     5.0\n",
       "99983     4.0\n",
       "99984     2.0\n",
       "99985     2.0\n",
       "99986     3.0\n",
       "99987     4.0\n",
       "99988     4.0\n",
       "99989     4.5\n",
       "99990     3.0\n",
       "99991     4.0\n",
       "99992     4.0\n",
       "99993     3.5\n",
       "99994     5.0\n",
       "99995     4.0\n",
       "99996     4.5\n",
       "99997     4.0\n",
       "99998     2.5\n",
       "99999     2.5\n",
       "100000    4.0\n",
       "100001    4.0\n",
       "100002    2.5\n",
       "100003    3.5\n",
       "Name: rating, Length: 100004, dtype: float32"
      ]
     },
     "execution_count": 65,
     "metadata": {},
     "output_type": "execute_result"
    }
   ],
   "source": [
    "y"
   ]
  },
  {
   "cell_type": "code",
   "execution_count": 68,
   "metadata": {},
   "outputs": [
    {
     "data": {
      "text/plain": [
       "(pandas.core.frame.DataFrame, pandas.core.series.Series)"
      ]
     },
     "execution_count": 68,
     "metadata": {},
     "output_type": "execute_result"
    }
   ],
   "source": [
    "type(x), type(y)"
   ]
  },
  {
   "cell_type": "code",
   "execution_count": 26,
   "metadata": {
    "hidden": true
   },
   "outputs": [],
   "source": [
    "# Thias is the only fastai thing we are using here.\n",
    "# Grab a model data object from a data frame using that x and y\n",
    "# cat_flds=['userId', 'movieId']\n",
    "data = ColumnarModelData.from_data_frame(path, val_idxs, x, y, ['userId', 'movieId'], 64)"
   ]
  },
  {
   "cell_type": "code",
   "execution_count": 27,
   "metadata": {
    "hidden": true
   },
   "outputs": [],
   "source": [
    "wd=1e-5\n",
    "model = EmbeddingDot(n_users, n_movies).cuda() # Instantiate the pytorch object\n",
    "opt = optim.SGD(model.parameters(), 1e-1, weight_decay=wd, momentum=0.9) # Create an optimizer. model.parameters() is inherit from nn.Module that will return all the weights need to update"
   ]
  },
  {
   "cell_type": "code",
   "execution_count": 28,
   "metadata": {
    "hidden": true
   },
   "outputs": [
    {
     "data": {
      "application/vnd.jupyter.widget-view+json": {
       "model_id": "d5315206d3944b3a9b70d9691c033aee",
       "version_major": 2,
       "version_minor": 0
      },
      "text/plain": [
       "HBox(children=(IntProgress(value=0, description='Epoch', max=3), HTML(value='')))"
      ]
     },
     "metadata": {},
     "output_type": "display_data"
    },
    {
     "name": "stdout",
     "output_type": "stream",
     "text": [
      "epoch      trn_loss   val_loss                                                                                         \n",
      "    0      1.733784   1.623152  \n",
      "    1      1.059795   1.304467                                                                                         \n",
      "    2      0.954743   1.228755                                                                                         \n",
      "\n"
     ]
    },
    {
     "data": {
      "text/plain": [
       "[1.2287548]"
      ]
     },
     "execution_count": 28,
     "metadata": {},
     "output_type": "execute_result"
    }
   ],
   "source": [
    "# ??fit will give you the source code\n",
    "# Notice that we are not using a learner, we are just using a pytorch module passed into fit function. So the fit here is still\n",
    "# fastai thing but with lower level abstraction.\n",
    "# This is suitable for the situation that you have a pytorch model, and you do not want to write your training loop, then you\n",
    "# can call this fastai fit funciton. But you will not be able to use the SDGR and differential learning rates that's in the \n",
    "# learner, and that's the downside of going down to this level of abstraction.\n",
    "fit(model, data, 3, opt, F.mse_loss)"
   ]
  },
  {
   "cell_type": "code",
   "execution_count": 29,
   "metadata": {
    "hidden": true
   },
   "outputs": [],
   "source": [
    "# We can manually do learning rate annealing/schedule\n",
    "# set learning rate here in the opt\n",
    "set_lrs(opt, 0.01)"
   ]
  },
  {
   "cell_type": "code",
   "execution_count": 30,
   "metadata": {
    "hidden": true
   },
   "outputs": [
    {
     "data": {
      "application/vnd.jupyter.widget-view+json": {
       "model_id": "8a0b3ae1e8d644a3b813c2c212b6b0a2",
       "version_major": 2,
       "version_minor": 0
      },
      "text/plain": [
       "HBox(children=(IntProgress(value=0, description='Epoch', max=3), HTML(value='')))"
      ]
     },
     "metadata": {},
     "output_type": "display_data"
    },
    {
     "name": "stdout",
     "output_type": "stream",
     "text": [
      "epoch      trn_loss   val_loss                                                                                         \n",
      "    0      0.697004   1.144254  \n",
      "    1      0.647608   1.132445                                                                                         \n",
      "    2      0.659834   1.127299                                                                                         \n",
      "\n"
     ]
    },
    {
     "data": {
      "text/plain": [
       "[1.1272988]"
      ]
     },
     "execution_count": 30,
     "metadata": {},
     "output_type": "execute_result"
    }
   ],
   "source": [
    "# Then train again, and here we geta little bit better result\n",
    "fit(model, data, 3, opt, F.mse_loss)"
   ]
  },
  {
   "cell_type": "markdown",
   "metadata": {
    "heading_collapsed": true
   },
   "source": [
    "### Bias"
   ]
  },
  {
   "cell_type": "code",
   "execution_count": 32,
   "metadata": {
    "hidden": true
   },
   "outputs": [
    {
     "data": {
      "text/plain": [
       "(0.5, 5.0)"
      ]
     },
     "execution_count": 32,
     "metadata": {},
     "output_type": "execute_result"
    }
   ],
   "source": [
    "min_rating,max_rating = ratings.rating.min(),ratings.rating.max()\n",
    "min_rating,max_rating"
   ]
  },
  {
   "cell_type": "code",
   "execution_count": 33,
   "metadata": {
    "hidden": true
   },
   "outputs": [],
   "source": [
    "def get_emb(ni,nf): #ni->#input, nf->#factor\n",
    "    e = nn.Embedding(ni, nf)\n",
    "    e.weight.data.uniform_(-0.01,0.01)\n",
    "    return e\n",
    "\n",
    "class EmbeddingDotBias(nn.Module):\n",
    "    def __init__(self, n_users, n_movies):\n",
    "        super().__init__()\n",
    "        (self.u, self.m, self.ub, self.mb) = [get_emb(*o) for o in [   # list comprehension\n",
    "            (n_users, n_factors), (n_movies, n_factors), (n_users,1), (n_movies,1)\n",
    "        ]]\n",
    "        \n",
    "    def forward(self, cats, conts):\n",
    "        users,movies = cats[:,0],cats[:,1]\n",
    "        um = (self.u(users)* self.m(movies)).sum(1) # dot product as before\n",
    "        res = um + self.ub(users).squeeze() + self.mb(movies).squeeze() # boardcasting: squeeze is pytorch function that adds an additional axis to support adding vector into matrix\n",
    "        res = F.sigmoid(res) * (max_rating-min_rating) + min_rating # This is not necessary, but it really helps a lot\n",
    "        return res"
   ]
  },
  {
   "cell_type": "code",
   "execution_count": 34,
   "metadata": {
    "hidden": true,
    "scrolled": true
   },
   "outputs": [],
   "source": [
    "wd=2e-4\n",
    "model = EmbeddingDotBias(cf.n_users, cf.n_items).cuda() # .cuda to put it on GPU, because we are not using leaner stuff but we have to manually say put it on GPU\n",
    "opt = optim.SGD(model.parameters(), 1e-1, weight_decay=wd, momentum=0.9)"
   ]
  },
  {
   "cell_type": "code",
   "execution_count": 35,
   "metadata": {
    "hidden": true
   },
   "outputs": [
    {
     "data": {
      "application/vnd.jupyter.widget-view+json": {
       "model_id": "eb1b34ec3d9f496298a9eb9b5d42d29e",
       "version_major": 2,
       "version_minor": 0
      },
      "text/plain": [
       "HBox(children=(IntProgress(value=0, description='Epoch', max=3), HTML(value='')))"
      ]
     },
     "metadata": {},
     "output_type": "display_data"
    },
    {
     "name": "stdout",
     "output_type": "stream",
     "text": [
      "epoch      trn_loss   val_loss                                                                                         \n",
      "    0      0.829057   0.836052  \n",
      "    1      0.804441   0.817727                                                                                         \n",
      "    2      0.795685   0.808776                                                                                         \n",
      "\n"
     ]
    },
    {
     "data": {
      "text/plain": [
       "[0.80877602]"
      ]
     },
     "execution_count": 35,
     "metadata": {},
     "output_type": "execute_result"
    }
   ],
   "source": [
    "# These numbers are doing good\n",
    "fit(model, data, 3, opt, F.mse_loss)"
   ]
  },
  {
   "cell_type": "code",
   "execution_count": 36,
   "metadata": {
    "hidden": true
   },
   "outputs": [],
   "source": [
    "set_lrs(opt, 1e-2)"
   ]
  },
  {
   "cell_type": "code",
   "execution_count": 37,
   "metadata": {
    "hidden": true
   },
   "outputs": [
    {
     "data": {
      "application/vnd.jupyter.widget-view+json": {
       "model_id": "10d930d290074e9780089e07eef33d1d",
       "version_major": 2,
       "version_minor": 0
      },
      "text/plain": [
       "HBox(children=(IntProgress(value=0, description='Epoch', max=3), HTML(value='')))"
      ]
     },
     "metadata": {},
     "output_type": "display_data"
    },
    {
     "name": "stdout",
     "output_type": "stream",
     "text": [
      "epoch      trn_loss   val_loss                                                                                         \n",
      "    0      0.775581   0.802497  \n",
      "    1      0.750676   0.801734                                                                                         \n",
      "    2      0.735192   0.80094                                                                                          \n",
      "\n"
     ]
    },
    {
     "data": {
      "text/plain": [
       "[0.80094004]"
      ]
     },
     "execution_count": 37,
     "metadata": {},
     "output_type": "execute_result"
    }
   ],
   "source": [
    "fit(model, data, 3, opt, F.mse_loss)"
   ]
  },
  {
   "cell_type": "markdown",
   "metadata": {},
   "source": [
    "### Mini net"
   ]
  },
  {
   "cell_type": "code",
   "execution_count": 38,
   "metadata": {
    "code_folding": []
   },
   "outputs": [],
   "source": [
    "class EmbeddingNet(nn.Module):\n",
    "    def __init__(self, n_users, n_movies, nh=10, p1=0.05, p2=0.5):\n",
    "        super().__init__()\n",
    "        (self.u, self.m) = [get_emb(*o) for o in [\n",
    "            (n_users, n_factors), (n_movies, n_factors)]]\n",
    "        self.lin1 = nn.Linear(n_factors*2, nh)\n",
    "        self.lin2 = nn.Linear(nh, 1)\n",
    "        self.drop1 = nn.Dropout(p1)\n",
    "        self.drop2 = nn.Dropout(p2)\n",
    "        \n",
    "    def forward(self, cats, conts):\n",
    "        users,movies = cats[:,0],cats[:,1]\n",
    "        #x = F.dropout(torch.cat([self.u(users),self.m(movies)], dim=1), 0.75)\n",
    "        #x = F.dropout(F.relu(self.lin1(x)), 0.75)\n",
    "        x = self.drop1(torch.cat([self.u(users),self.m(movies)], dim=1)) #dim=1 means concatenate the columns together to create longer rows\n",
    "        x = self.drop2(F.relu(self.lin1(x)))\n",
    "        return F.sigmoid(self.lin2(x)) * (max_rating-min_rating+1) + min_rating-0.5"
   ]
  },
  {
   "cell_type": "code",
   "execution_count": 39,
   "metadata": {},
   "outputs": [],
   "source": [
    "wd=1e-5\n",
    "model = EmbeddingNet(n_users, n_movies).cuda()\n",
    "opt = optim.Adam(model.parameters(), 1e-3, weight_decay=wd)"
   ]
  },
  {
   "cell_type": "code",
   "execution_count": 40,
   "metadata": {},
   "outputs": [
    {
     "data": {
      "application/vnd.jupyter.widget-view+json": {
       "model_id": "d83deb56f2784a26a4a68dd8e13ac172",
       "version_major": 2,
       "version_minor": 0
      },
      "text/plain": [
       "HBox(children=(IntProgress(value=0, description='Epoch', max=3), HTML(value='')))"
      ]
     },
     "metadata": {},
     "output_type": "display_data"
    },
    {
     "name": "stdout",
     "output_type": "stream",
     "text": [
      "epoch      trn_loss   val_loss                                                                                         \n",
      "    0      0.897238   0.809426  \n",
      "    1      0.813362   0.790658                                                                                         \n",
      "    2      0.835892   0.788618                                                                                         \n",
      "\n"
     ]
    },
    {
     "data": {
      "text/plain": [
       "[0.78861797]"
      ]
     },
     "execution_count": 40,
     "metadata": {},
     "output_type": "execute_result"
    }
   ],
   "source": [
    "fit(model, data, 3, opt, F.mse_loss)"
   ]
  },
  {
   "cell_type": "code",
   "execution_count": 41,
   "metadata": {},
   "outputs": [],
   "source": [
    "set_lrs(opt, 1e-3)"
   ]
  },
  {
   "cell_type": "code",
   "execution_count": 42,
   "metadata": {},
   "outputs": [
    {
     "data": {
      "application/vnd.jupyter.widget-view+json": {
       "model_id": "a4c63335740149c1b34042265121cd75",
       "version_major": 2,
       "version_minor": 0
      },
      "text/plain": [
       "HBox(children=(IntProgress(value=0, description='Epoch', max=3), HTML(value='')))"
      ]
     },
     "metadata": {},
     "output_type": "display_data"
    },
    {
     "name": "stdout",
     "output_type": "stream",
     "text": [
      "epoch      trn_loss   val_loss                                                                                         \n",
      "    0      0.764942   0.787993  \n",
      "    1      0.757806   0.793183                                                                                         \n",
      "    2      0.761896   0.791168                                                                                         \n",
      "\n"
     ]
    },
    {
     "data": {
      "text/plain": [
       "[0.79116821]"
      ]
     },
     "execution_count": 42,
     "metadata": {},
     "output_type": "execute_result"
    }
   ],
   "source": [
    "fit(model, data, 3, opt, F.mse_loss)"
   ]
  },
  {
   "cell_type": "code",
   "execution_count": null,
   "metadata": {},
   "outputs": [],
   "source": []
  }
 ],
 "metadata": {
  "kernelspec": {
   "display_name": "Python 3",
   "language": "python",
   "name": "python3"
  },
  "language_info": {
   "codemirror_mode": {
    "name": "ipython",
    "version": 3
   },
   "file_extension": ".py",
   "mimetype": "text/x-python",
   "name": "python",
   "nbconvert_exporter": "python",
   "pygments_lexer": "ipython3",
   "version": "3.6.6"
  },
  "toc": {
   "colors": {
    "hover_highlight": "#DAA520",
    "navigate_num": "#000000",
    "navigate_text": "#333333",
    "running_highlight": "#FF0000",
    "selected_highlight": "#FFD700",
    "sidebar_border": "#EEEEEE",
    "wrapper_background": "#FFFFFF"
   },
   "moveMenuLeft": true,
   "nav_menu": {
    "height": "123px",
    "width": "252px"
   },
   "navigate_menu": true,
   "number_sections": true,
   "sideBar": true,
   "threshold": 4,
   "toc_cell": false,
   "toc_section_display": "block",
   "toc_window_display": false,
   "widenNotebook": false
  }
 },
 "nbformat": 4,
 "nbformat_minor": 2
}
